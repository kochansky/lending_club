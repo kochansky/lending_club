{
 "cells": [
  {
   "cell_type": "markdown",
   "metadata": {
    "colab_type": "text",
    "id": "D9_qe-ZWnl0i"
   },
   "source": [
    "## General Overview\n",
    "\n",
    "The main goal of this research is to prepare and compare a few models to predict borrower's default rate. The data is sourced from Kaggle website: https://www.kaggle.com/wendykan/lending-club-loan-data/downloads/lending-club-loan-data.zip. It contains complete loan data for all loans issued through the 2007-2015, what makes about 890 thousand observations in total. There are 3 separate files inside the zipped file:\n",
    "\n",
    "- loan.csv -> entire data in CSV format\n",
    "- database.sqlite -> entire data in SQL format\n",
    "- LCDataDictionary.xlsx -> dictionary with variables description\n",
    "\n",
    "For the purpose of this study, I am going to use .csv file as the most convenient and natural for Pandas environment. \n",
    "\n",
    "Let's start off by importing the necessary modules and reading the file."
   ]
  },
  {
   "cell_type": "code",
   "execution_count": 1,
   "metadata": {
    "cellView": "code",
    "colab": {
     "autoexec": {
      "startup": false,
      "wait_interval": 0
     }
    },
    "colab_type": "code",
    "collapsed": true,
    "id": "GtM-ApULkuLo"
   },
   "outputs": [],
   "source": [
    "# Basic modules for dataframe manipulation\n",
    "import numpy as np\n",
    "import pandas as pd\n",
    "from pandas.api.types import is_string_dtype, is_numeric_dtype, is_categorical_dtype\n",
    "\n",
    "# Plots\n",
    "import matplotlib.pyplot as plt\n",
    "import seaborn as sns\n",
    "%matplotlib inline\n",
    "\n",
    "# Machine learning\n",
    "from sklearn.linear_model import LogisticRegression\n",
    "from sklearn.ensemble import RandomForestClassifier\n",
    "from sklearn.pipeline import Pipeline\n",
    "import xgboost as xgb\n",
    "from xgboost.sklearn import XGBClassifier\n",
    "\n",
    "# Data Standardization\n",
    "from sklearn.preprocessing import StandardScaler\n",
    "\n",
    "# Cross Validaton\n",
    "from sklearn.model_selection import train_test_split\n",
    "from sklearn.model_selection import GridSearchCV\n",
    "\n",
    "# Metrics\n",
    "from sklearn.metrics import roc_auc_score\n",
    "from sklearn.metrics import roc_curve\n",
    "from sklearn.metrics import classification_report\n",
    "from sklearn.metrics import confusion_matrix\n",
    "\n",
    "# Don't display warnings \n",
    "import warnings\n",
    "warnings.filterwarnings(\"ignore\")"
   ]
  },
  {
   "cell_type": "code",
   "execution_count": 2,
   "metadata": {
    "colab": {
     "autoexec": {
      "startup": false,
      "wait_interval": 0
     }
    },
    "colab_type": "code",
    "id": "rA5QQuLEbUQU",
    "outputId": "a93d1167-c4a9-466b-bf28-5d1a3b1647c3"
   },
   "outputs": [
    {
     "name": "stdout",
     "output_type": "stream",
     "text": [
      "Number of records: 887379\n",
      "Number of variables: 74\n"
     ]
    }
   ],
   "source": [
    "# Read the file into dataframe\n",
    "df_raw = pd.read_csv('loan.csv', low_memory=False)\n",
    "print(\"Number of records: {}\\nNumber of variables: {}\".format(df_raw.shape[0], df_raw.shape[1]))"
   ]
  },
  {
   "cell_type": "markdown",
   "metadata": {
    "colab_type": "text",
    "id": "jbPnQ8lqutP0"
   },
   "source": [
    "It is important to look at the data in order to understand its format, structure, value types, missing values notation, etc. "
   ]
  },
  {
   "cell_type": "code",
   "execution_count": 3,
   "metadata": {
    "colab": {
     "autoexec": {
      "startup": false,
      "wait_interval": 0
     }
    },
    "colab_type": "code",
    "id": "45h9euVgbUQW",
    "outputId": "24cabfd6-8a64-49ac-af82-8757ea3476fc"
   },
   "outputs": [
    {
     "data": {
      "text/html": [
       "<div>\n",
       "<style>\n",
       "    .dataframe thead tr:only-child th {\n",
       "        text-align: right;\n",
       "    }\n",
       "\n",
       "    .dataframe thead th {\n",
       "        text-align: left;\n",
       "    }\n",
       "\n",
       "    .dataframe tbody tr th {\n",
       "        vertical-align: top;\n",
       "    }\n",
       "</style>\n",
       "<table border=\"1\" class=\"dataframe\">\n",
       "  <thead>\n",
       "    <tr style=\"text-align: right;\">\n",
       "      <th></th>\n",
       "      <th>id</th>\n",
       "      <th>member_id</th>\n",
       "      <th>loan_amnt</th>\n",
       "      <th>funded_amnt</th>\n",
       "      <th>funded_amnt_inv</th>\n",
       "      <th>term</th>\n",
       "      <th>int_rate</th>\n",
       "      <th>installment</th>\n",
       "      <th>grade</th>\n",
       "      <th>sub_grade</th>\n",
       "      <th>...</th>\n",
       "      <th>total_bal_il</th>\n",
       "      <th>il_util</th>\n",
       "      <th>open_rv_12m</th>\n",
       "      <th>open_rv_24m</th>\n",
       "      <th>max_bal_bc</th>\n",
       "      <th>all_util</th>\n",
       "      <th>total_rev_hi_lim</th>\n",
       "      <th>inq_fi</th>\n",
       "      <th>total_cu_tl</th>\n",
       "      <th>inq_last_12m</th>\n",
       "    </tr>\n",
       "  </thead>\n",
       "  <tbody>\n",
       "    <tr>\n",
       "      <th>0</th>\n",
       "      <td>1077501</td>\n",
       "      <td>1296599</td>\n",
       "      <td>5000.0</td>\n",
       "      <td>5000.0</td>\n",
       "      <td>4975.0</td>\n",
       "      <td>36 months</td>\n",
       "      <td>10.65</td>\n",
       "      <td>162.87</td>\n",
       "      <td>B</td>\n",
       "      <td>B2</td>\n",
       "      <td>...</td>\n",
       "      <td>NaN</td>\n",
       "      <td>NaN</td>\n",
       "      <td>NaN</td>\n",
       "      <td>NaN</td>\n",
       "      <td>NaN</td>\n",
       "      <td>NaN</td>\n",
       "      <td>NaN</td>\n",
       "      <td>NaN</td>\n",
       "      <td>NaN</td>\n",
       "      <td>NaN</td>\n",
       "    </tr>\n",
       "    <tr>\n",
       "      <th>1</th>\n",
       "      <td>1077430</td>\n",
       "      <td>1314167</td>\n",
       "      <td>2500.0</td>\n",
       "      <td>2500.0</td>\n",
       "      <td>2500.0</td>\n",
       "      <td>60 months</td>\n",
       "      <td>15.27</td>\n",
       "      <td>59.83</td>\n",
       "      <td>C</td>\n",
       "      <td>C4</td>\n",
       "      <td>...</td>\n",
       "      <td>NaN</td>\n",
       "      <td>NaN</td>\n",
       "      <td>NaN</td>\n",
       "      <td>NaN</td>\n",
       "      <td>NaN</td>\n",
       "      <td>NaN</td>\n",
       "      <td>NaN</td>\n",
       "      <td>NaN</td>\n",
       "      <td>NaN</td>\n",
       "      <td>NaN</td>\n",
       "    </tr>\n",
       "    <tr>\n",
       "      <th>2</th>\n",
       "      <td>1077175</td>\n",
       "      <td>1313524</td>\n",
       "      <td>2400.0</td>\n",
       "      <td>2400.0</td>\n",
       "      <td>2400.0</td>\n",
       "      <td>36 months</td>\n",
       "      <td>15.96</td>\n",
       "      <td>84.33</td>\n",
       "      <td>C</td>\n",
       "      <td>C5</td>\n",
       "      <td>...</td>\n",
       "      <td>NaN</td>\n",
       "      <td>NaN</td>\n",
       "      <td>NaN</td>\n",
       "      <td>NaN</td>\n",
       "      <td>NaN</td>\n",
       "      <td>NaN</td>\n",
       "      <td>NaN</td>\n",
       "      <td>NaN</td>\n",
       "      <td>NaN</td>\n",
       "      <td>NaN</td>\n",
       "    </tr>\n",
       "    <tr>\n",
       "      <th>3</th>\n",
       "      <td>1076863</td>\n",
       "      <td>1277178</td>\n",
       "      <td>10000.0</td>\n",
       "      <td>10000.0</td>\n",
       "      <td>10000.0</td>\n",
       "      <td>36 months</td>\n",
       "      <td>13.49</td>\n",
       "      <td>339.31</td>\n",
       "      <td>C</td>\n",
       "      <td>C1</td>\n",
       "      <td>...</td>\n",
       "      <td>NaN</td>\n",
       "      <td>NaN</td>\n",
       "      <td>NaN</td>\n",
       "      <td>NaN</td>\n",
       "      <td>NaN</td>\n",
       "      <td>NaN</td>\n",
       "      <td>NaN</td>\n",
       "      <td>NaN</td>\n",
       "      <td>NaN</td>\n",
       "      <td>NaN</td>\n",
       "    </tr>\n",
       "    <tr>\n",
       "      <th>4</th>\n",
       "      <td>1075358</td>\n",
       "      <td>1311748</td>\n",
       "      <td>3000.0</td>\n",
       "      <td>3000.0</td>\n",
       "      <td>3000.0</td>\n",
       "      <td>60 months</td>\n",
       "      <td>12.69</td>\n",
       "      <td>67.79</td>\n",
       "      <td>B</td>\n",
       "      <td>B5</td>\n",
       "      <td>...</td>\n",
       "      <td>NaN</td>\n",
       "      <td>NaN</td>\n",
       "      <td>NaN</td>\n",
       "      <td>NaN</td>\n",
       "      <td>NaN</td>\n",
       "      <td>NaN</td>\n",
       "      <td>NaN</td>\n",
       "      <td>NaN</td>\n",
       "      <td>NaN</td>\n",
       "      <td>NaN</td>\n",
       "    </tr>\n",
       "  </tbody>\n",
       "</table>\n",
       "<p>5 rows × 74 columns</p>\n",
       "</div>"
      ],
      "text/plain": [
       "        id  member_id  loan_amnt  funded_amnt  funded_amnt_inv        term  \\\n",
       "0  1077501    1296599     5000.0       5000.0           4975.0   36 months   \n",
       "1  1077430    1314167     2500.0       2500.0           2500.0   60 months   \n",
       "2  1077175    1313524     2400.0       2400.0           2400.0   36 months   \n",
       "3  1076863    1277178    10000.0      10000.0          10000.0   36 months   \n",
       "4  1075358    1311748     3000.0       3000.0           3000.0   60 months   \n",
       "\n",
       "   int_rate  installment grade sub_grade     ...      total_bal_il il_util  \\\n",
       "0     10.65       162.87     B        B2     ...               NaN     NaN   \n",
       "1     15.27        59.83     C        C4     ...               NaN     NaN   \n",
       "2     15.96        84.33     C        C5     ...               NaN     NaN   \n",
       "3     13.49       339.31     C        C1     ...               NaN     NaN   \n",
       "4     12.69        67.79     B        B5     ...               NaN     NaN   \n",
       "\n",
       "  open_rv_12m  open_rv_24m max_bal_bc all_util total_rev_hi_lim inq_fi  \\\n",
       "0         NaN          NaN        NaN      NaN              NaN    NaN   \n",
       "1         NaN          NaN        NaN      NaN              NaN    NaN   \n",
       "2         NaN          NaN        NaN      NaN              NaN    NaN   \n",
       "3         NaN          NaN        NaN      NaN              NaN    NaN   \n",
       "4         NaN          NaN        NaN      NaN              NaN    NaN   \n",
       "\n",
       "  total_cu_tl inq_last_12m  \n",
       "0         NaN          NaN  \n",
       "1         NaN          NaN  \n",
       "2         NaN          NaN  \n",
       "3         NaN          NaN  \n",
       "4         NaN          NaN  \n",
       "\n",
       "[5 rows x 74 columns]"
      ]
     },
     "execution_count": 3,
     "metadata": {},
     "output_type": "execute_result"
    }
   ],
   "source": [
    "# Display first 5 lines\n",
    "df_raw.head()"
   ]
  },
  {
   "cell_type": "markdown",
   "metadata": {
    "colab_type": "text",
    "id": "ju28QRt7Ya-k"
   },
   "source": [
    "The first lines show us a bunch of columns representing a wide range of different types of things such as id, term, or grade. This means, that we deal with **structured data**. "
   ]
  },
  {
   "cell_type": "code",
   "execution_count": 4,
   "metadata": {
    "colab": {
     "autoexec": {
      "startup": false,
      "wait_interval": 0
     }
    },
    "colab_type": "code",
    "id": "epKgU7vHbUQZ",
    "outputId": "c6a00223-87d1-40e4-ec3f-a6d717ff3579"
   },
   "outputs": [
    {
     "name": "stdout",
     "output_type": "stream",
     "text": [
      "<class 'pandas.core.frame.DataFrame'>\n",
      "RangeIndex: 887379 entries, 0 to 887378\n",
      "Data columns (total 74 columns):\n",
      "id                             887379 non-null int64\n",
      "member_id                      887379 non-null int64\n",
      "loan_amnt                      887379 non-null float64\n",
      "funded_amnt                    887379 non-null float64\n",
      "funded_amnt_inv                887379 non-null float64\n",
      "term                           887379 non-null object\n",
      "int_rate                       887379 non-null float64\n",
      "installment                    887379 non-null float64\n",
      "grade                          887379 non-null object\n",
      "sub_grade                      887379 non-null object\n",
      "emp_title                      835922 non-null object\n",
      "emp_length                     887379 non-null object\n",
      "home_ownership                 887379 non-null object\n",
      "annual_inc                     887375 non-null float64\n",
      "verification_status            887379 non-null object\n",
      "issue_d                        887379 non-null object\n",
      "loan_status                    887379 non-null object\n",
      "pymnt_plan                     887379 non-null object\n",
      "url                            887379 non-null object\n",
      "desc                           126029 non-null object\n",
      "purpose                        887379 non-null object\n",
      "title                          887228 non-null object\n",
      "zip_code                       887379 non-null object\n",
      "addr_state                     887379 non-null object\n",
      "dti                            887379 non-null float64\n",
      "delinq_2yrs                    887350 non-null float64\n",
      "earliest_cr_line               887350 non-null object\n",
      "inq_last_6mths                 887350 non-null float64\n",
      "mths_since_last_delinq         433067 non-null float64\n",
      "mths_since_last_record         137053 non-null float64\n",
      "open_acc                       887350 non-null float64\n",
      "pub_rec                        887350 non-null float64\n",
      "revol_bal                      887379 non-null float64\n",
      "revol_util                     886877 non-null float64\n",
      "total_acc                      887350 non-null float64\n",
      "initial_list_status            887379 non-null object\n",
      "out_prncp                      887379 non-null float64\n",
      "out_prncp_inv                  887379 non-null float64\n",
      "total_pymnt                    887379 non-null float64\n",
      "total_pymnt_inv                887379 non-null float64\n",
      "total_rec_prncp                887379 non-null float64\n",
      "total_rec_int                  887379 non-null float64\n",
      "total_rec_late_fee             887379 non-null float64\n",
      "recoveries                     887379 non-null float64\n",
      "collection_recovery_fee        887379 non-null float64\n",
      "last_pymnt_d                   869720 non-null object\n",
      "last_pymnt_amnt                887379 non-null float64\n",
      "next_pymnt_d                   634408 non-null object\n",
      "last_credit_pull_d             887326 non-null object\n",
      "collections_12_mths_ex_med     887234 non-null float64\n",
      "mths_since_last_major_derog    221703 non-null float64\n",
      "policy_code                    887379 non-null float64\n",
      "application_type               887379 non-null object\n",
      "annual_inc_joint               511 non-null float64\n",
      "dti_joint                      509 non-null float64\n",
      "verification_status_joint      511 non-null object\n",
      "acc_now_delinq                 887350 non-null float64\n",
      "tot_coll_amt                   817103 non-null float64\n",
      "tot_cur_bal                    817103 non-null float64\n",
      "open_acc_6m                    21372 non-null float64\n",
      "open_il_6m                     21372 non-null float64\n",
      "open_il_12m                    21372 non-null float64\n",
      "open_il_24m                    21372 non-null float64\n",
      "mths_since_rcnt_il             20810 non-null float64\n",
      "total_bal_il                   21372 non-null float64\n",
      "il_util                        18617 non-null float64\n",
      "open_rv_12m                    21372 non-null float64\n",
      "open_rv_24m                    21372 non-null float64\n",
      "max_bal_bc                     21372 non-null float64\n",
      "all_util                       21372 non-null float64\n",
      "total_rev_hi_lim               817103 non-null float64\n",
      "inq_fi                         21372 non-null float64\n",
      "total_cu_tl                    21372 non-null float64\n",
      "inq_last_12m                   21372 non-null float64\n",
      "dtypes: float64(49), int64(2), object(23)\n",
      "memory usage: 501.0+ MB\n"
     ]
    }
   ],
   "source": [
    "# Check the type and number of non-null values of each column\n",
    "df_raw.info()"
   ]
  },
  {
   "cell_type": "markdown",
   "metadata": {
    "colab_type": "text",
    "id": "P1rKzoXLhvnH"
   },
   "source": [
    "This dataset contains a mix of continuous and categorical variables. The latter are currently stored as 'objects', which is an unefficient way of storing string data, so it is necessary to convert them into 'category'. "
   ]
  },
  {
   "cell_type": "markdown",
   "metadata": {
    "colab_type": "text",
    "id": "1iHsBIgYndiK"
   },
   "source": [
    "## Data pre-processing\n",
    "\n",
    "Data pre-processing is a critical step that needs to be taken to convert the raw data into a clean data set. The common steps are:\n",
    "\n",
    "- **Cleaning**: removal or fixing missing data\n",
    "- **Formatting**: adjusting the type of each column and making them suitable for machine learning algorithms\n",
    "- **Sampling**: selecting a small, representative sample, what results in computational time reduction\n",
    "\n",
    "I will execute all of the listed steps. \n",
    "\n",
    "### Cleaning\n",
    "\n",
    "In the above window, we observe that the 'NANs' fraction is really heavy in over a dozen of columns. I will discard all features consisting of 75%+ missing values, in order to avoid assumptions on such a large scale. For remaining columns, I will apply the following imputation methods: median for continuous variables and mode for categorical ones. Median is usually more preferable to mean, because of negligible impact of outliers."
   ]
  },
  {
   "cell_type": "code",
   "execution_count": 5,
   "metadata": {
    "colab": {
     "autoexec": {
      "startup": false,
      "wait_interval": 0
     }
    },
    "colab_type": "code",
    "id": "wUJOz7ArRVW9",
    "outputId": "c287e7d2-9ba1-4126-8603-64c6ffbc1780"
   },
   "outputs": [
    {
     "name": "stdout",
     "output_type": "stream",
     "text": [
      "dti_joint                      0.999426\n",
      "verification_status_joint      0.999424\n",
      "annual_inc_joint               0.999424\n",
      "il_util                        0.979020\n",
      "mths_since_rcnt_il             0.976549\n",
      "all_util                       0.975916\n",
      "max_bal_bc                     0.975916\n",
      "open_rv_24m                    0.975916\n",
      "open_rv_12m                    0.975916\n",
      "total_cu_tl                    0.975916\n",
      "total_bal_il                   0.975916\n",
      "open_il_24m                    0.975916\n",
      "open_il_12m                    0.975916\n",
      "open_il_6m                     0.975916\n",
      "open_acc_6m                    0.975916\n",
      "inq_fi                         0.975916\n",
      "inq_last_12m                   0.975916\n",
      "desc                           0.857976\n",
      "mths_since_last_record         0.845553\n",
      "mths_since_last_major_derog    0.750160\n",
      "mths_since_last_delinq         0.511971\n",
      "next_pymnt_d                   0.285077\n",
      "tot_cur_bal                    0.079195\n",
      "total_rev_hi_lim               0.079195\n",
      "tot_coll_amt                   0.079195\n",
      "emp_title                      0.057988\n",
      "last_pymnt_d                   0.019900\n",
      "revol_util                     0.000566\n",
      "title                          0.000170\n",
      "collections_12_mths_ex_med     0.000163\n",
      "                                 ...   \n",
      "home_ownership                 0.000000\n",
      "sub_grade                      0.000000\n",
      "grade                          0.000000\n",
      "installment                    0.000000\n",
      "int_rate                       0.000000\n",
      "term                           0.000000\n",
      "funded_amnt_inv                0.000000\n",
      "url                            0.000000\n",
      "loan_amnt                      0.000000\n",
      "member_id                      0.000000\n",
      "funded_amnt                    0.000000\n",
      "out_prncp                      0.000000\n",
      "purpose                        0.000000\n",
      "zip_code                       0.000000\n",
      "application_type               0.000000\n",
      "policy_code                    0.000000\n",
      "last_pymnt_amnt                0.000000\n",
      "collection_recovery_fee        0.000000\n",
      "recoveries                     0.000000\n",
      "total_rec_late_fee             0.000000\n",
      "total_rec_int                  0.000000\n",
      "total_rec_prncp                0.000000\n",
      "total_pymnt_inv                0.000000\n",
      "total_pymnt                    0.000000\n",
      "out_prncp_inv                  0.000000\n",
      "initial_list_status            0.000000\n",
      "revol_bal                      0.000000\n",
      "dti                            0.000000\n",
      "addr_state                     0.000000\n",
      "id                             0.000000\n",
      "Length: 74, dtype: float64\n"
     ]
    }
   ],
   "source": [
    "# Select and print missing values ratio in descending order\n",
    "nans = df_raw.isnull().sum().sort_values(ascending=False)/len(df_raw)\n",
    "print(nans)"
   ]
  },
  {
   "cell_type": "code",
   "execution_count": 6,
   "metadata": {
    "colab": {
     "autoexec": {
      "startup": false,
      "wait_interval": 0
     }
    },
    "colab_type": "code",
    "collapsed": true,
    "id": "bYJuu_BORVW_"
   },
   "outputs": [],
   "source": [
    "# Copy all columns containing less then 75% of missing values to new variable: 'df'\n",
    "df = df_raw.loc[:, nans < 0.75]"
   ]
  },
  {
   "cell_type": "markdown",
   "metadata": {
    "colab_type": "text",
    "id": "22LukeTpJQAU"
   },
   "source": [
    "It is a good moment to specify our **target** variable. Default client is defined as one with *loan_status* variable taking on the following levels:\n",
    "\n",
    "- Charged off\n",
    "- Default\n",
    "- Does not meet the credit policy. Status: Charged Off\n",
    "- Late (31-120 days)\n",
    "\n",
    "Having this piece of information we can make an assumption that all remaining levels represent customers not being set as default.\n",
    "First of all, I will check for unique values in *loan_status* to avoid misspellings in passing them into a new variable: *default*. Then, I will assign all remaining distinct values into the variable: *not_default*, using list comprehension - an effective \"Pythonic\" construction. To conclude this step, I will denote all default clients as 1, and others as 0."
   ]
  },
  {
   "cell_type": "code",
   "execution_count": 7,
   "metadata": {
    "colab": {
     "autoexec": {
      "startup": false,
      "wait_interval": 0
     }
    },
    "colab_type": "code",
    "id": "hIKyrJ7KJGQN",
    "outputId": "c7c7f37b-45f8-4d3d-c57e-44a1bbef8ce6"
   },
   "outputs": [
    {
     "data": {
      "text/plain": [
       "array(['Fully Paid', 'Charged Off', 'Current', 'Default',\n",
       "       'Late (31-120 days)', 'In Grace Period', 'Late (16-30 days)',\n",
       "       'Does not meet the credit policy. Status:Fully Paid',\n",
       "       'Does not meet the credit policy. Status:Charged Off', 'Issued'],\n",
       "      dtype=object)"
      ]
     },
     "execution_count": 7,
     "metadata": {},
     "output_type": "execute_result"
    }
   ],
   "source": [
    "# Show distinct values of 'loan status'\n",
    "df['loan_status'].unique()"
   ]
  },
  {
   "cell_type": "code",
   "execution_count": 8,
   "metadata": {
    "colab": {
     "autoexec": {
      "startup": false,
      "wait_interval": 0
     }
    },
    "colab_type": "code",
    "collapsed": true,
    "id": "tV8-4MvdJJ0T"
   },
   "outputs": [],
   "source": [
    "# Assign column names to corresponding variables\n",
    "default = ['Charged Off', 'Default', 'Late (31-120 days)', 'Does not meet the credit policy. Status:Charged Off']\n",
    "not_default = [x for x in df['loan_status'].unique() if x not in default]"
   ]
  },
  {
   "cell_type": "code",
   "execution_count": 9,
   "metadata": {
    "colab": {
     "autoexec": {
      "startup": false,
      "wait_interval": 0
     }
    },
    "colab_type": "code",
    "collapsed": true,
    "id": "O2IKnOVWJOhc"
   },
   "outputs": [],
   "source": [
    "# Convert to numbers\n",
    "df['loan_status'].replace(default, 1, inplace=True)\n",
    "df['loan_status'].replace(not_default, 0, inplace=True)\n"
   ]
  },
  {
   "cell_type": "markdown",
   "metadata": {
    "colab_type": "text",
    "id": "hs1iwm3HZodW"
   },
   "source": [
    "Let's find out how our dependent variable is distributed:"
   ]
  },
  {
   "cell_type": "code",
   "execution_count": 10,
   "metadata": {
    "colab": {
     "autoexec": {
      "startup": false,
      "wait_interval": 0
     }
    },
    "colab_type": "code",
    "id": "4PQV2vUGZnfm",
    "outputId": "deeacd46-cd85-4da7-b740-d538fdcd7929"
   },
   "outputs": [
    {
     "name": "stdout",
     "output_type": "stream",
     "text": [
      "0    828560\n",
      "1     58819\n",
      "Name: loan_status, dtype: int64\n",
      "Total friction of default clients = 7.10%\n"
     ]
    },
    {
     "data": {
      "image/png": "[encoded data removed]",
      "text/plain": [
       "<matplotlib.figure.Figure at 0x25e80023518>"
      ]
     },
     "metadata": {},
     "output_type": "display_data"
    }
   ],
   "source": [
    "# Count values\n",
    "distr = df['loan_status'].value_counts()\n",
    "print(distr)\n",
    "print(\"Total friction of default clients = {0:.2f}%\".format((distr[1]/distr[0])*100))\n",
    "\n",
    "# Plot the distribution\n",
    "sns.countplot('loan_status', data=df)\n",
    "plt.show()"
   ]
  },
  {
   "cell_type": "markdown",
   "metadata": {
    "colab_type": "text",
    "id": "Zz_iLh4zcxBI"
   },
   "source": [
    "Since the distribution of our endogenous variable is very unbalanced, standard \"accuracy\" would not be sufficient to properly asses how a particular model performs. I will come back to this topic a bit later. \n",
    "\n",
    "### Formatting\n",
    "\n",
    "In this section, I am going to convert *object* types into *category*, fix missing values and take a closer look at all variables. \n",
    "I will iterate through a certain type of columns using *for loops* to perform necessary operations on them. These actions will result in a clean data frame, prepared for machine learning modelling. "
   ]
  },
  {
   "cell_type": "code",
   "execution_count": 11,
   "metadata": {
    "colab": {
     "autoexec": {
      "startup": false,
      "wait_interval": 0
     }
    },
    "colab_type": "code",
    "collapsed": true,
    "id": "EzVfymWZkNR5"
   },
   "outputs": [],
   "source": [
    "# Change any columns of strings in a panda's dataframe to a column of catagorical values. Create a list of this sort of columns.\n",
    "categorical = []\n",
    "for n, c in df.items():\n",
    "    if is_string_dtype(c):\n",
    "        df[n] = c.astype('category').cat.as_ordered()\n",
    "        categorical.append(n)"
   ]
  },
  {
   "cell_type": "code",
   "execution_count": 12,
   "metadata": {
    "colab": {
     "autoexec": {
      "startup": false,
      "wait_interval": 0
     }
    },
    "colab_type": "code",
    "collapsed": true,
    "id": "5JNcAVW6RVXC"
   },
   "outputs": [],
   "source": [
    "# Iterate through all columns, select numeric columns (float, integer) containing missing values, and fill NANs with median\n",
    "for n, c in df.items(): \n",
    "    if is_numeric_dtype(c):\n",
    "        if pd.isnull(c).sum() > 0:\n",
    "            df.loc[:,n] = c.fillna(c.median())"
   ]
  },
  {
   "cell_type": "code",
   "execution_count": 13,
   "metadata": {
    "colab": {
     "autoexec": {
      "startup": false,
      "wait_interval": 0
     }
    },
    "colab_type": "code",
    "collapsed": true,
    "id": "SkhHTffXkQYA"
   },
   "outputs": [],
   "source": [
    "# Fill NANs in categorical variables with mode\n",
    "for n, c in df.items():\n",
    "    if is_categorical_dtype(c):\n",
    "        if pd.isnull(c).sum() > 0:\n",
    "            df[n] = c.fillna(c.mode()[0])"
   ]
  },
  {
   "cell_type": "code",
   "execution_count": 14,
   "metadata": {
    "colab": {
     "autoexec": {
      "startup": false,
      "wait_interval": 0
     }
    },
    "colab_type": "code",
    "id": "Dt_WADpKRVXJ",
    "outputId": "a0b90c10-e7fd-4d2f-811c-3f41ed2a11e0"
   },
   "outputs": [
    {
     "name": "stdout",
     "output_type": "stream",
     "text": [
      "<class 'pandas.core.frame.DataFrame'>\n",
      "RangeIndex: 887379 entries, 0 to 887378\n",
      "Data columns (total 54 columns):\n",
      "id                            887379 non-null int64\n",
      "member_id                     887379 non-null int64\n",
      "loan_amnt                     887379 non-null float64\n",
      "funded_amnt                   887379 non-null float64\n",
      "funded_amnt_inv               887379 non-null float64\n",
      "term                          887379 non-null category\n",
      "int_rate                      887379 non-null float64\n",
      "installment                   887379 non-null float64\n",
      "grade                         887379 non-null category\n",
      "sub_grade                     887379 non-null category\n",
      "emp_title                     887379 non-null category\n",
      "emp_length                    887379 non-null category\n",
      "home_ownership                887379 non-null category\n",
      "annual_inc                    887379 non-null float64\n",
      "verification_status           887379 non-null category\n",
      "issue_d                       887379 non-null category\n",
      "loan_status                   887379 non-null int64\n",
      "pymnt_plan                    887379 non-null category\n",
      "url                           887379 non-null category\n",
      "purpose                       887379 non-null category\n",
      "title                         887379 non-null category\n",
      "zip_code                      887379 non-null category\n",
      "addr_state                    887379 non-null category\n",
      "dti                           887379 non-null float64\n",
      "delinq_2yrs                   887379 non-null float64\n",
      "earliest_cr_line              887379 non-null category\n",
      "inq_last_6mths                887379 non-null float64\n",
      "mths_since_last_delinq        887379 non-null float64\n",
      "open_acc                      887379 non-null float64\n",
      "pub_rec                       887379 non-null float64\n",
      "revol_bal                     887379 non-null float64\n",
      "revol_util                    887379 non-null float64\n",
      "total_acc                     887379 non-null float64\n",
      "initial_list_status           887379 non-null category\n",
      "out_prncp                     887379 non-null float64\n",
      "out_prncp_inv                 887379 non-null float64\n",
      "total_pymnt                   887379 non-null float64\n",
      "total_pymnt_inv               887379 non-null float64\n",
      "total_rec_prncp               887379 non-null float64\n",
      "total_rec_int                 887379 non-null float64\n",
      "total_rec_late_fee            887379 non-null float64\n",
      "recoveries                    887379 non-null float64\n",
      "collection_recovery_fee       887379 non-null float64\n",
      "last_pymnt_d                  887379 non-null category\n",
      "last_pymnt_amnt               887379 non-null float64\n",
      "next_pymnt_d                  887379 non-null category\n",
      "last_credit_pull_d            887379 non-null category\n",
      "collections_12_mths_ex_med    887379 non-null float64\n",
      "policy_code                   887379 non-null float64\n",
      "application_type              887379 non-null category\n",
      "acc_now_delinq                887379 non-null float64\n",
      "tot_coll_amt                  887379 non-null float64\n",
      "tot_cur_bal                   887379 non-null float64\n",
      "total_rev_hi_lim              887379 non-null float64\n",
      "dtypes: category(20), float64(31), int64(3)\n",
      "memory usage: 318.6 MB\n"
     ]
    }
   ],
   "source": [
    "# Show the result of formatting\n",
    "df.info()"
   ]
  },
  {
   "cell_type": "markdown",
   "metadata": {
    "colab_type": "text",
    "id": "Sfc1Iu5HoAHo"
   },
   "source": [
    "The data frame looks much better now!\n",
    "\n",
    "There are two types of categorical variables: nominal and ordinal. It is beneficial for predictive models performance to identify the ordinal ones and \"tell them\" what the correct hierarchy is unless already ordered correctly."
   ]
  },
  {
   "cell_type": "code",
   "execution_count": 15,
   "metadata": {
    "colab": {
     "autoexec": {
      "startup": false,
      "wait_interval": 0
     }
    },
    "colab_type": "code",
    "id": "l8xtP76AvQ1Z",
    "outputId": "12a7a384-2453-4fd1-9696-40b0e65c4b3f"
   },
   "outputs": [
    {
     "data": {
      "text/html": [
       "<div>\n",
       "<style>\n",
       "    .dataframe thead tr:only-child th {\n",
       "        text-align: right;\n",
       "    }\n",
       "\n",
       "    .dataframe thead th {\n",
       "        text-align: left;\n",
       "    }\n",
       "\n",
       "    .dataframe tbody tr th {\n",
       "        vertical-align: top;\n",
       "    }\n",
       "</style>\n",
       "<table border=\"1\" class=\"dataframe\">\n",
       "  <thead>\n",
       "    <tr style=\"text-align: right;\">\n",
       "      <th></th>\n",
       "      <th>term</th>\n",
       "      <th>grade</th>\n",
       "      <th>sub_grade</th>\n",
       "      <th>emp_title</th>\n",
       "      <th>emp_length</th>\n",
       "      <th>home_ownership</th>\n",
       "      <th>verification_status</th>\n",
       "      <th>issue_d</th>\n",
       "      <th>pymnt_plan</th>\n",
       "      <th>url</th>\n",
       "      <th>purpose</th>\n",
       "      <th>title</th>\n",
       "      <th>zip_code</th>\n",
       "      <th>addr_state</th>\n",
       "      <th>earliest_cr_line</th>\n",
       "      <th>initial_list_status</th>\n",
       "      <th>last_pymnt_d</th>\n",
       "      <th>next_pymnt_d</th>\n",
       "      <th>last_credit_pull_d</th>\n",
       "      <th>application_type</th>\n",
       "    </tr>\n",
       "  </thead>\n",
       "  <tbody>\n",
       "    <tr>\n",
       "      <th>244683</th>\n",
       "      <td>36 months</td>\n",
       "      <td>B</td>\n",
       "      <td>B4</td>\n",
       "      <td>Owner</td>\n",
       "      <td>10+ years</td>\n",
       "      <td>RENT</td>\n",
       "      <td>Not Verified</td>\n",
       "      <td>Dec-2014</td>\n",
       "      <td>n</td>\n",
       "      <td>https://www.lendingclub.com/browse/loanDetail....</td>\n",
       "      <td>debt_consolidation</td>\n",
       "      <td>Debt consolidation</td>\n",
       "      <td>100xx</td>\n",
       "      <td>NY</td>\n",
       "      <td>Jun-1990</td>\n",
       "      <td>f</td>\n",
       "      <td>Jan-2016</td>\n",
       "      <td>Feb-2016</td>\n",
       "      <td>Jan-2016</td>\n",
       "      <td>INDIVIDUAL</td>\n",
       "    </tr>\n",
       "    <tr>\n",
       "      <th>552599</th>\n",
       "      <td>36 months</td>\n",
       "      <td>C</td>\n",
       "      <td>C4</td>\n",
       "      <td>District Manager</td>\n",
       "      <td>10+ years</td>\n",
       "      <td>MORTGAGE</td>\n",
       "      <td>Verified</td>\n",
       "      <td>Oct-2015</td>\n",
       "      <td>n</td>\n",
       "      <td>https://www.lendingclub.com/browse/loanDetail....</td>\n",
       "      <td>debt_consolidation</td>\n",
       "      <td>Debt consolidation</td>\n",
       "      <td>871xx</td>\n",
       "      <td>NM</td>\n",
       "      <td>Aug-2005</td>\n",
       "      <td>f</td>\n",
       "      <td>Dec-2015</td>\n",
       "      <td>Feb-2016</td>\n",
       "      <td>Jan-2016</td>\n",
       "      <td>INDIVIDUAL</td>\n",
       "    </tr>\n",
       "    <tr>\n",
       "      <th>86183</th>\n",
       "      <td>36 months</td>\n",
       "      <td>C</td>\n",
       "      <td>C5</td>\n",
       "      <td>Community memorial health systems</td>\n",
       "      <td>6 years</td>\n",
       "      <td>RENT</td>\n",
       "      <td>Verified</td>\n",
       "      <td>Sep-2013</td>\n",
       "      <td>n</td>\n",
       "      <td>https://www.lendingclub.com/browse/loanDetail....</td>\n",
       "      <td>debt_consolidation</td>\n",
       "      <td>Life's a Journey</td>\n",
       "      <td>934xx</td>\n",
       "      <td>CA</td>\n",
       "      <td>Dec-1993</td>\n",
       "      <td>w</td>\n",
       "      <td>Mar-2014</td>\n",
       "      <td>Feb-2016</td>\n",
       "      <td>Oct-2015</td>\n",
       "      <td>INDIVIDUAL</td>\n",
       "    </tr>\n",
       "    <tr>\n",
       "      <th>836102</th>\n",
       "      <td>36 months</td>\n",
       "      <td>A</td>\n",
       "      <td>A5</td>\n",
       "      <td>Pharmacy Technician</td>\n",
       "      <td>8 years</td>\n",
       "      <td>RENT</td>\n",
       "      <td>Verified</td>\n",
       "      <td>Feb-2015</td>\n",
       "      <td>n</td>\n",
       "      <td>https://www.lendingclub.com/browse/loanDetail....</td>\n",
       "      <td>other</td>\n",
       "      <td>Other</td>\n",
       "      <td>940xx</td>\n",
       "      <td>CA</td>\n",
       "      <td>Jun-2003</td>\n",
       "      <td>f</td>\n",
       "      <td>Jan-2016</td>\n",
       "      <td>Feb-2016</td>\n",
       "      <td>Jan-2016</td>\n",
       "      <td>INDIVIDUAL</td>\n",
       "    </tr>\n",
       "    <tr>\n",
       "      <th>258626</th>\n",
       "      <td>36 months</td>\n",
       "      <td>B</td>\n",
       "      <td>B2</td>\n",
       "      <td>Firefighter Paramedic</td>\n",
       "      <td>1 year</td>\n",
       "      <td>MORTGAGE</td>\n",
       "      <td>Source Verified</td>\n",
       "      <td>Nov-2014</td>\n",
       "      <td>n</td>\n",
       "      <td>https://www.lendingclub.com/browse/loanDetail....</td>\n",
       "      <td>debt_consolidation</td>\n",
       "      <td>Debt consolidation</td>\n",
       "      <td>226xx</td>\n",
       "      <td>VA</td>\n",
       "      <td>Feb-1998</td>\n",
       "      <td>f</td>\n",
       "      <td>Dec-2014</td>\n",
       "      <td>Feb-2016</td>\n",
       "      <td>Dec-2014</td>\n",
       "      <td>INDIVIDUAL</td>\n",
       "    </tr>\n",
       "    <tr>\n",
       "      <th>491134</th>\n",
       "      <td>36 months</td>\n",
       "      <td>B</td>\n",
       "      <td>B1</td>\n",
       "      <td>SECURITY OFFICER</td>\n",
       "      <td>3 years</td>\n",
       "      <td>MORTGAGE</td>\n",
       "      <td>Not Verified</td>\n",
       "      <td>Dec-2015</td>\n",
       "      <td>n</td>\n",
       "      <td>https://www.lendingclub.com/browse/loanDetail....</td>\n",
       "      <td>credit_card</td>\n",
       "      <td>Credit card refinancing</td>\n",
       "      <td>294xx</td>\n",
       "      <td>SC</td>\n",
       "      <td>Sep-1992</td>\n",
       "      <td>w</td>\n",
       "      <td>Jan-2016</td>\n",
       "      <td>Feb-2016</td>\n",
       "      <td>Jan-2016</td>\n",
       "      <td>INDIVIDUAL</td>\n",
       "    </tr>\n",
       "    <tr>\n",
       "      <th>568847</th>\n",
       "      <td>36 months</td>\n",
       "      <td>A</td>\n",
       "      <td>A5</td>\n",
       "      <td>Server</td>\n",
       "      <td>1 year</td>\n",
       "      <td>RENT</td>\n",
       "      <td>Verified</td>\n",
       "      <td>Oct-2015</td>\n",
       "      <td>n</td>\n",
       "      <td>https://www.lendingclub.com/browse/loanDetail....</td>\n",
       "      <td>debt_consolidation</td>\n",
       "      <td>Debt consolidation</td>\n",
       "      <td>606xx</td>\n",
       "      <td>IL</td>\n",
       "      <td>Apr-2005</td>\n",
       "      <td>w</td>\n",
       "      <td>Jan-2016</td>\n",
       "      <td>Feb-2016</td>\n",
       "      <td>Jan-2016</td>\n",
       "      <td>INDIVIDUAL</td>\n",
       "    </tr>\n",
       "  </tbody>\n",
       "</table>\n",
       "</div>"
      ],
      "text/plain": [
       "              term grade sub_grade                          emp_title  \\\n",
       "244683   36 months     B        B4                              Owner   \n",
       "552599   36 months     C        C4                   District Manager   \n",
       "86183    36 months     C        C5  Community memorial health systems   \n",
       "836102   36 months     A        A5                Pharmacy Technician   \n",
       "258626   36 months     B        B2              Firefighter Paramedic   \n",
       "491134   36 months     B        B1                   SECURITY OFFICER   \n",
       "568847   36 months     A        A5                            Server    \n",
       "\n",
       "       emp_length home_ownership verification_status   issue_d pymnt_plan  \\\n",
       "244683  10+ years           RENT        Not Verified  Dec-2014          n   \n",
       "552599  10+ years       MORTGAGE            Verified  Oct-2015          n   \n",
       "86183     6 years           RENT            Verified  Sep-2013          n   \n",
       "836102    8 years           RENT            Verified  Feb-2015          n   \n",
       "258626     1 year       MORTGAGE     Source Verified  Nov-2014          n   \n",
       "491134    3 years       MORTGAGE        Not Verified  Dec-2015          n   \n",
       "568847     1 year           RENT            Verified  Oct-2015          n   \n",
       "\n",
       "                                                      url             purpose  \\\n",
       "244683  https://www.lendingclub.com/browse/loanDetail....  debt_consolidation   \n",
       "552599  https://www.lendingclub.com/browse/loanDetail....  debt_consolidation   \n",
       "86183   https://www.lendingclub.com/browse/loanDetail....  debt_consolidation   \n",
       "836102  https://www.lendingclub.com/browse/loanDetail....               other   \n",
       "258626  https://www.lendingclub.com/browse/loanDetail....  debt_consolidation   \n",
       "491134  https://www.lendingclub.com/browse/loanDetail....         credit_card   \n",
       "568847  https://www.lendingclub.com/browse/loanDetail....  debt_consolidation   \n",
       "\n",
       "                          title zip_code addr_state earliest_cr_line  \\\n",
       "244683       Debt consolidation    100xx         NY         Jun-1990   \n",
       "552599       Debt consolidation    871xx         NM         Aug-2005   \n",
       "86183          Life's a Journey    934xx         CA         Dec-1993   \n",
       "836102                    Other    940xx         CA         Jun-2003   \n",
       "258626       Debt consolidation    226xx         VA         Feb-1998   \n",
       "491134  Credit card refinancing    294xx         SC         Sep-1992   \n",
       "568847       Debt consolidation    606xx         IL         Apr-2005   \n",
       "\n",
       "       initial_list_status last_pymnt_d next_pymnt_d last_credit_pull_d  \\\n",
       "244683                   f     Jan-2016     Feb-2016           Jan-2016   \n",
       "552599                   f     Dec-2015     Feb-2016           Jan-2016   \n",
       "86183                    w     Mar-2014     Feb-2016           Oct-2015   \n",
       "836102                   f     Jan-2016     Feb-2016           Jan-2016   \n",
       "258626                   f     Dec-2014     Feb-2016           Dec-2014   \n",
       "491134                   w     Jan-2016     Feb-2016           Jan-2016   \n",
       "568847                   w     Jan-2016     Feb-2016           Jan-2016   \n",
       "\n",
       "       application_type  \n",
       "244683       INDIVIDUAL  \n",
       "552599       INDIVIDUAL  \n",
       "86183        INDIVIDUAL  \n",
       "836102       INDIVIDUAL  \n",
       "258626       INDIVIDUAL  \n",
       "491134       INDIVIDUAL  \n",
       "568847       INDIVIDUAL  "
      ]
     },
     "execution_count": 15,
     "metadata": {},
     "output_type": "execute_result"
    }
   ],
   "source": [
    "# Display 7 randomly selected rows\n",
    "df[categorical].sample(7)"
   ]
  },
  {
   "cell_type": "code",
   "execution_count": 16,
   "metadata": {
    "colab": {
     "autoexec": {
      "startup": false,
      "wait_interval": 0
     }
    },
    "colab_type": "code",
    "id": "ydxKfZbfvQ1b",
    "outputId": "112dcfd7-6b5f-4e6f-becb-f7dbec1f8bbe"
   },
   "outputs": [
    {
     "name": "stdout",
     "output_type": "stream",
     "text": [
      "term: Index([' 36 months', ' 60 months'], dtype='object')\n",
      "grade: Index(['A', 'B', 'C', 'D', 'E', 'F', 'G'], dtype='object')\n",
      "sub_grade: Index(['A1', 'A2', 'A3', 'A4', 'A5', 'B1', 'B2', 'B3', 'B4', 'B5', 'C1', 'C2',\n",
      "       'C3', 'C4', 'C5', 'D1', 'D2', 'D3', 'D4', 'D5', 'E1', 'E2', 'E3', 'E4',\n",
      "       'E5', 'F1', 'F2', 'F3', 'F4', 'F5', 'G1', 'G2', 'G3', 'G4', 'G5'],\n",
      "      dtype='object')\n",
      "emp_title: Index([' \\tAdv Mtr Proj Fld Rep', '       NSA Industries llc',\n",
      "       '    MOTHER  THERESA  HOME', '    Quitman Street Community School',\n",
      "       '   Bus Operator and Instructor', '   Fibro Source',\n",
      "       '   Long Ilsand College Hospital', '   day care proivder',\n",
      "       '   letter carrier    ', '   mortgage banker',\n",
      "       ...\n",
      "       'zoning compliance officer', 'zoning inspector', 'zookeeper',\n",
      "       'zoom de italy', 'zozaya officiating', 'zs backroom',\n",
      "       'zueck transportation', 'zulily', 'År.  Technical Illustrator',\n",
      "       '​License Compliance Investigator'],\n",
      "      dtype='object', length=299272)\n",
      "emp_length: Index(['1 year', '10+ years', '2 years', '3 years', '4 years', '5 years',\n",
      "       '6 years', '7 years', '8 years', '9 years', '< 1 year', 'n/a'],\n",
      "      dtype='object')\n",
      "home_ownership: Index(['ANY', 'MORTGAGE', 'NONE', 'OTHER', 'OWN', 'RENT'], dtype='object')\n",
      "verification_status: Index(['Not Verified', 'Source Verified', 'Verified'], dtype='object')\n",
      "issue_d: Index(['Apr-2008', 'Apr-2009', 'Apr-2010', 'Apr-2011', 'Apr-2012', 'Apr-2013',\n",
      "       'Apr-2014', 'Apr-2015', 'Aug-2007', 'Aug-2008',\n",
      "       ...\n",
      "       'Oct-2015', 'Sep-2007', 'Sep-2008', 'Sep-2009', 'Sep-2010', 'Sep-2011',\n",
      "       'Sep-2012', 'Sep-2013', 'Sep-2014', 'Sep-2015'],\n",
      "      dtype='object', length=103)\n",
      "pymnt_plan: Index(['n', 'y'], dtype='object')\n",
      "url: Index(['https://www.lendingclub.com/browse/loanDetail.action?loan_id=1000007',\n",
      "       'https://www.lendingclub.com/browse/loanDetail.action?loan_id=1000030',\n",
      "       'https://www.lendingclub.com/browse/loanDetail.action?loan_id=1000033',\n",
      "       'https://www.lendingclub.com/browse/loanDetail.action?loan_id=1000045',\n",
      "       'https://www.lendingclub.com/browse/loanDetail.action?loan_id=1000067',\n",
      "       'https://www.lendingclub.com/browse/loanDetail.action?loan_id=1000095',\n",
      "       'https://www.lendingclub.com/browse/loanDetail.action?loan_id=1000115',\n",
      "       'https://www.lendingclub.com/browse/loanDetail.action?loan_id=1000124',\n",
      "       'https://www.lendingclub.com/browse/loanDetail.action?loan_id=1000138',\n",
      "       'https://www.lendingclub.com/browse/loanDetail.action?loan_id=1000142',\n",
      "       ...\n",
      "       'https://www.lendingclub.com/browse/loanDetail.action?loan_id=999894',\n",
      "       'https://www.lendingclub.com/browse/loanDetail.action?loan_id=999905',\n",
      "       'https://www.lendingclub.com/browse/loanDetail.action?loan_id=999909',\n",
      "       'https://www.lendingclub.com/browse/loanDetail.action?loan_id=999914',\n",
      "       'https://www.lendingclub.com/browse/loanDetail.action?loan_id=999918',\n",
      "       'https://www.lendingclub.com/browse/loanDetail.action?loan_id=999951',\n",
      "       'https://www.lendingclub.com/browse/loanDetail.action?loan_id=999955',\n",
      "       'https://www.lendingclub.com/browse/loanDetail.action?loan_id=999981',\n",
      "       'https://www.lendingclub.com/browse/loanDetail.action?loan_id=999983',\n",
      "       'https://www.lendingclub.com/browse/loanDetail.action?loan_id=999989'],\n",
      "      dtype='object', length=887379)\n",
      "purpose: Index(['car', 'credit_card', 'debt_consolidation', 'educational',\n",
      "       'home_improvement', 'house', 'major_purchase', 'medical', 'moving',\n",
      "       'other', 'renewable_energy', 'small_business', 'vacation', 'wedding'],\n",
      "      dtype='object')\n",
      "title: Index(['\\tcredit_card', '\\tdebt_consolidation', '\\thouse', '\\tother',\n",
      "       '\\tsmall_business', '      debt consolidation', '   HITEK  EQUIPMENT ',\n",
      "       '  A lending hand', '  Consolidation', '  Debt Consolidation',\n",
      "       ...\n",
      "       'zero dept', 'zero interest', 'zerodebt', 'zeusamoose', 'zipcar',\n",
      "       'zonball Loan', 'zxcvb', '~Life Reorganization~', '~Summer Fun~',\n",
      "       'îîMY FIRST CAR îî'],\n",
      "      dtype='object', length=63145)\n",
      "zip_code: Index(['007xx', '008xx', '010xx', '011xx', '012xx', '013xx', '014xx', '015xx',\n",
      "       '016xx', '017xx',\n",
      "       ...\n",
      "       '990xx', '991xx', '992xx', '993xx', '994xx', '995xx', '996xx', '997xx',\n",
      "       '998xx', '999xx'],\n",
      "      dtype='object', length=935)\n",
      "addr_state: Index(['AK', 'AL', 'AR', 'AZ', 'CA', 'CO', 'CT', 'DC', 'DE', 'FL', 'GA', 'HI',\n",
      "       'IA', 'ID', 'IL', 'IN', 'KS', 'KY', 'LA', 'MA', 'MD', 'ME', 'MI', 'MN',\n",
      "       'MO', 'MS', 'MT', 'NC', 'ND', 'NE', 'NH', 'NJ', 'NM', 'NV', 'NY', 'OH',\n",
      "       'OK', 'OR', 'PA', 'RI', 'SC', 'SD', 'TN', 'TX', 'UT', 'VA', 'VT', 'WA',\n",
      "       'WI', 'WV', 'WY'],\n",
      "      dtype='object')\n",
      "earliest_cr_line: Index(['Apr-1955', 'Apr-1958', 'Apr-1960', 'Apr-1961', 'Apr-1962', 'Apr-1963',\n",
      "       'Apr-1964', 'Apr-1965', 'Apr-1966', 'Apr-1967',\n",
      "       ...\n",
      "       'Sep-2003', 'Sep-2004', 'Sep-2005', 'Sep-2006', 'Sep-2007', 'Sep-2008',\n",
      "       'Sep-2009', 'Sep-2010', 'Sep-2011', 'Sep-2012'],\n",
      "      dtype='object', length=697)\n",
      "initial_list_status: Index(['f', 'w'], dtype='object')\n",
      "last_pymnt_d: Index(['Apr-2008', 'Apr-2009', 'Apr-2010', 'Apr-2011', 'Apr-2012', 'Apr-2013',\n",
      "       'Apr-2014', 'Apr-2015', 'Aug-2008', 'Aug-2009', 'Aug-2010', 'Aug-2011',\n",
      "       'Aug-2012', 'Aug-2013', 'Aug-2014', 'Aug-2015', 'Dec-2007', 'Dec-2008',\n",
      "       'Dec-2009', 'Dec-2010', 'Dec-2011', 'Dec-2012', 'Dec-2013', 'Dec-2014',\n",
      "       'Dec-2015', 'Feb-2008', 'Feb-2009', 'Feb-2010', 'Feb-2011', 'Feb-2012',\n",
      "       'Feb-2013', 'Feb-2014', 'Feb-2015', 'Jan-2008', 'Jan-2009', 'Jan-2010',\n",
      "       'Jan-2011', 'Jan-2012', 'Jan-2013', 'Jan-2014', 'Jan-2015', 'Jan-2016',\n",
      "       'Jul-2008', 'Jul-2009', 'Jul-2010', 'Jul-2011', 'Jul-2012', 'Jul-2013',\n",
      "       'Jul-2014', 'Jul-2015', 'Jun-2008', 'Jun-2009', 'Jun-2010', 'Jun-2011',\n",
      "       'Jun-2012', 'Jun-2013', 'Jun-2014', 'Jun-2015', 'Mar-2008', 'Mar-2009',\n",
      "       'Mar-2010', 'Mar-2011', 'Mar-2012', 'Mar-2013', 'Mar-2014', 'Mar-2015',\n",
      "       'May-2008', 'May-2009', 'May-2010', 'May-2011', 'May-2012', 'May-2013',\n",
      "       'May-2014', 'May-2015', 'Nov-2008', 'Nov-2009', 'Nov-2010', 'Nov-2011',\n",
      "       'Nov-2012', 'Nov-2013', 'Nov-2014', 'Nov-2015', 'Oct-2008', 'Oct-2009',\n",
      "       'Oct-2010', 'Oct-2011', 'Oct-2012', 'Oct-2013', 'Oct-2014', 'Oct-2015',\n",
      "       'Sep-2008', 'Sep-2009', 'Sep-2010', 'Sep-2011', 'Sep-2012', 'Sep-2013',\n",
      "       'Sep-2014', 'Sep-2015'],\n",
      "      dtype='object')\n",
      "next_pymnt_d: Index(['Apr-2008', 'Apr-2009', 'Apr-2010', 'Apr-2011', 'Apr-2012', 'Apr-2013',\n",
      "       'Apr-2014', 'Apr-2015', 'Aug-2008', 'Aug-2009', 'Aug-2010', 'Aug-2011',\n",
      "       'Aug-2012', 'Aug-2013', 'Aug-2014', 'Aug-2015', 'Dec-2007', 'Dec-2008',\n",
      "       'Dec-2009', 'Dec-2010', 'Dec-2011', 'Dec-2012', 'Dec-2013', 'Dec-2014',\n",
      "       'Dec-2015', 'Feb-2008', 'Feb-2009', 'Feb-2010', 'Feb-2011', 'Feb-2012',\n",
      "       'Feb-2013', 'Feb-2014', 'Feb-2015', 'Feb-2016', 'Jan-2008', 'Jan-2009',\n",
      "       'Jan-2010', 'Jan-2011', 'Jan-2012', 'Jan-2013', 'Jan-2014', 'Jan-2015',\n",
      "       'Jan-2016', 'Jul-2008', 'Jul-2009', 'Jul-2010', 'Jul-2011', 'Jul-2012',\n",
      "       'Jul-2013', 'Jul-2014', 'Jul-2015', 'Jun-2008', 'Jun-2009', 'Jun-2010',\n",
      "       'Jun-2011', 'Jun-2012', 'Jun-2013', 'Jun-2014', 'Jun-2015', 'Mar-2008',\n",
      "       'Mar-2009', 'Mar-2010', 'Mar-2011', 'Mar-2012', 'Mar-2013', 'Mar-2014',\n",
      "       'Mar-2015', 'Mar-2016', 'May-2008', 'May-2009', 'May-2010', 'May-2011',\n",
      "       'May-2012', 'May-2013', 'May-2014', 'May-2015', 'Nov-2008', 'Nov-2009',\n",
      "       'Nov-2010', 'Nov-2011', 'Nov-2012', 'Nov-2013', 'Nov-2014', 'Nov-2015',\n",
      "       'Oct-2008', 'Oct-2009', 'Oct-2010', 'Oct-2011', 'Oct-2012', 'Oct-2013',\n",
      "       'Oct-2014', 'Oct-2015', 'Sep-2008', 'Sep-2009', 'Sep-2010', 'Sep-2011',\n",
      "       'Sep-2012', 'Sep-2013', 'Sep-2014', 'Sep-2015'],\n",
      "      dtype='object')\n",
      "last_credit_pull_d: Index(['Apr-2009', 'Apr-2010', 'Apr-2011', 'Apr-2012', 'Apr-2013', 'Apr-2014',\n",
      "       'Apr-2015', 'Aug-2007', 'Aug-2008', 'Aug-2009',\n",
      "       ...\n",
      "       'Oct-2015', 'Sep-2007', 'Sep-2008', 'Sep-2009', 'Sep-2010', 'Sep-2011',\n",
      "       'Sep-2012', 'Sep-2013', 'Sep-2014', 'Sep-2015'],\n",
      "      dtype='object', length=103)\n",
      "application_type: Index(['INDIVIDUAL', 'JOINT'], dtype='object')\n"
     ]
    }
   ],
   "source": [
    "# Show categories in relevant columns\n",
    "for c in df[categorical]:\n",
    "    print(\"{}: {}\".format(c, df[c].cat.categories))"
   ]
  },
  {
   "cell_type": "markdown",
   "metadata": {
    "colab_type": "text",
    "id": "8Vk-CCGvquAu"
   },
   "source": [
    "We observe, that first columns *term* and *grade* are ordered correctly, yet the column *emp_length* has to be reordered. Other features are nominal, hence no action is required. There are some dates that could possibly be transformed into \"data\" type, but this will not improve our model performance. Such conversion would be vital while tackling a time-series problem. The column *url* is also unnecessary here as it does not bring any useful information."
   ]
  },
  {
   "cell_type": "code",
   "execution_count": 17,
   "metadata": {
    "colab": {
     "autoexec": {
      "startup": false,
      "wait_interval": 0
     }
    },
    "colab_type": "code",
    "collapsed": true,
    "id": "FPh-i-3GvQ1f"
   },
   "outputs": [],
   "source": [
    "# Reorder 'emp_length' column\n",
    "df.emp_length.cat.set_categories(['< 1 year', '1 year', '2 years', '3 years', '4 years', '5 years',\n",
    "       '6 years', '7 years', '8 years', '9 years', '10+ years', 'n/a'], ordered=True, inplace=True)"
   ]
  },
  {
   "cell_type": "code",
   "execution_count": 18,
   "metadata": {
    "colab": {
     "autoexec": {
      "startup": false,
      "wait_interval": 0
     }
    },
    "colab_type": "code",
    "collapsed": true,
    "id": "39hZXcykvQ1g"
   },
   "outputs": [],
   "source": [
    "# Delete 'url' column\n",
    "df.drop(['url'], axis=1, inplace=True)"
   ]
  },
  {
   "cell_type": "markdown",
   "metadata": {
    "colab_type": "text",
    "id": "qRIjWuv3cvdH"
   },
   "source": [
    "Below loop will help to collect all numerical variables as a list, so we can take a look at their basic statistics."
   ]
  },
  {
   "cell_type": "code",
   "execution_count": 19,
   "metadata": {
    "colab": {
     "autoexec": {
      "startup": false,
      "wait_interval": 0
     }
    },
    "colab_type": "code",
    "collapsed": true,
    "id": "1S8Jvf_DvQ1n"
   },
   "outputs": [],
   "source": [
    "# Make a list of numerical columns\n",
    "numerical = []\n",
    "for n, c in df.items():\n",
    "    if is_numeric_dtype(c):\n",
    "        numerical.append(n)"
   ]
  },
  {
   "cell_type": "code",
   "execution_count": 20,
   "metadata": {
    "colab": {
     "autoexec": {
      "startup": false,
      "wait_interval": 0
     }
    },
    "colab_type": "code",
    "id": "XPYS3YUdvQ1o",
    "outputId": "0660cd97-169d-4341-ce72-d6111eb6c781"
   },
   "outputs": [
    {
     "data": {
      "text/html": [
       "<div>\n",
       "<style>\n",
       "    .dataframe thead tr:only-child th {\n",
       "        text-align: right;\n",
       "    }\n",
       "\n",
       "    .dataframe thead th {\n",
       "        text-align: left;\n",
       "    }\n",
       "\n",
       "    .dataframe tbody tr th {\n",
       "        vertical-align: top;\n",
       "    }\n",
       "</style>\n",
       "<table border=\"1\" class=\"dataframe\">\n",
       "  <thead>\n",
       "    <tr style=\"text-align: right;\">\n",
       "      <th></th>\n",
       "      <th>id</th>\n",
       "      <th>member_id</th>\n",
       "      <th>loan_amnt</th>\n",
       "      <th>funded_amnt</th>\n",
       "      <th>funded_amnt_inv</th>\n",
       "      <th>int_rate</th>\n",
       "      <th>installment</th>\n",
       "      <th>annual_inc</th>\n",
       "      <th>loan_status</th>\n",
       "      <th>dti</th>\n",
       "      <th>...</th>\n",
       "      <th>total_rec_late_fee</th>\n",
       "      <th>recoveries</th>\n",
       "      <th>collection_recovery_fee</th>\n",
       "      <th>last_pymnt_amnt</th>\n",
       "      <th>collections_12_mths_ex_med</th>\n",
       "      <th>policy_code</th>\n",
       "      <th>acc_now_delinq</th>\n",
       "      <th>tot_coll_amt</th>\n",
       "      <th>tot_cur_bal</th>\n",
       "      <th>total_rev_hi_lim</th>\n",
       "    </tr>\n",
       "  </thead>\n",
       "  <tbody>\n",
       "    <tr>\n",
       "      <th>count</th>\n",
       "      <td>8.873790e+05</td>\n",
       "      <td>8.873790e+05</td>\n",
       "      <td>887379.000000</td>\n",
       "      <td>887379.000000</td>\n",
       "      <td>887379.000000</td>\n",
       "      <td>887379.000000</td>\n",
       "      <td>887379.000000</td>\n",
       "      <td>8.873790e+05</td>\n",
       "      <td>887379.000000</td>\n",
       "      <td>887379.000000</td>\n",
       "      <td>...</td>\n",
       "      <td>887379.000000</td>\n",
       "      <td>887379.000000</td>\n",
       "      <td>887379.000000</td>\n",
       "      <td>887379.000000</td>\n",
       "      <td>887379.000000</td>\n",
       "      <td>887379.0</td>\n",
       "      <td>887379.000000</td>\n",
       "      <td>8.873790e+05</td>\n",
       "      <td>8.873790e+05</td>\n",
       "      <td>8.873790e+05</td>\n",
       "    </tr>\n",
       "    <tr>\n",
       "      <th>mean</th>\n",
       "      <td>3.246513e+07</td>\n",
       "      <td>3.500182e+07</td>\n",
       "      <td>14755.264605</td>\n",
       "      <td>14741.877625</td>\n",
       "      <td>14702.464383</td>\n",
       "      <td>13.246740</td>\n",
       "      <td>436.717127</td>\n",
       "      <td>7.502754e+04</td>\n",
       "      <td>0.066284</td>\n",
       "      <td>18.157039</td>\n",
       "      <td>...</td>\n",
       "      <td>0.396692</td>\n",
       "      <td>45.919243</td>\n",
       "      <td>4.880757</td>\n",
       "      <td>2164.145585</td>\n",
       "      <td>0.014377</td>\n",
       "      <td>1.0</td>\n",
       "      <td>0.004991</td>\n",
       "      <td>2.078281e+02</td>\n",
       "      <td>1.347937e+05</td>\n",
       "      <td>3.140587e+04</td>\n",
       "    </tr>\n",
       "    <tr>\n",
       "      <th>std</th>\n",
       "      <td>2.282734e+07</td>\n",
       "      <td>2.411335e+07</td>\n",
       "      <td>8435.455601</td>\n",
       "      <td>8429.897657</td>\n",
       "      <td>8442.106732</td>\n",
       "      <td>4.381867</td>\n",
       "      <td>244.186593</td>\n",
       "      <td>6.469816e+04</td>\n",
       "      <td>0.248778</td>\n",
       "      <td>17.190626</td>\n",
       "      <td>...</td>\n",
       "      <td>4.087825</td>\n",
       "      <td>409.693874</td>\n",
       "      <td>63.125281</td>\n",
       "      <td>4794.783233</td>\n",
       "      <td>0.134180</td>\n",
       "      <td>0.0</td>\n",
       "      <td>0.077624</td>\n",
       "      <td>9.894829e+03</td>\n",
       "      <td>1.483912e+05</td>\n",
       "      <td>3.605369e+04</td>\n",
       "    </tr>\n",
       "    <tr>\n",
       "      <th>min</th>\n",
       "      <td>5.473400e+04</td>\n",
       "      <td>7.047300e+04</td>\n",
       "      <td>500.000000</td>\n",
       "      <td>500.000000</td>\n",
       "      <td>0.000000</td>\n",
       "      <td>5.320000</td>\n",
       "      <td>15.670000</td>\n",
       "      <td>0.000000e+00</td>\n",
       "      <td>0.000000</td>\n",
       "      <td>0.000000</td>\n",
       "      <td>...</td>\n",
       "      <td>0.000000</td>\n",
       "      <td>0.000000</td>\n",
       "      <td>0.000000</td>\n",
       "      <td>0.000000</td>\n",
       "      <td>0.000000</td>\n",
       "      <td>1.0</td>\n",
       "      <td>0.000000</td>\n",
       "      <td>0.000000e+00</td>\n",
       "      <td>0.000000e+00</td>\n",
       "      <td>0.000000e+00</td>\n",
       "    </tr>\n",
       "    <tr>\n",
       "      <th>25%</th>\n",
       "      <td>9.206643e+06</td>\n",
       "      <td>1.087713e+07</td>\n",
       "      <td>8000.000000</td>\n",
       "      <td>8000.000000</td>\n",
       "      <td>8000.000000</td>\n",
       "      <td>9.990000</td>\n",
       "      <td>260.705000</td>\n",
       "      <td>4.500000e+04</td>\n",
       "      <td>0.000000</td>\n",
       "      <td>11.910000</td>\n",
       "      <td>...</td>\n",
       "      <td>0.000000</td>\n",
       "      <td>0.000000</td>\n",
       "      <td>0.000000</td>\n",
       "      <td>280.170000</td>\n",
       "      <td>0.000000</td>\n",
       "      <td>1.0</td>\n",
       "      <td>0.000000</td>\n",
       "      <td>0.000000e+00</td>\n",
       "      <td>3.224600e+04</td>\n",
       "      <td>1.470000e+04</td>\n",
       "    </tr>\n",
       "    <tr>\n",
       "      <th>50%</th>\n",
       "      <td>3.443327e+07</td>\n",
       "      <td>3.709528e+07</td>\n",
       "      <td>13000.000000</td>\n",
       "      <td>13000.000000</td>\n",
       "      <td>13000.000000</td>\n",
       "      <td>12.990000</td>\n",
       "      <td>382.550000</td>\n",
       "      <td>6.500000e+04</td>\n",
       "      <td>0.000000</td>\n",
       "      <td>17.650000</td>\n",
       "      <td>...</td>\n",
       "      <td>0.000000</td>\n",
       "      <td>0.000000</td>\n",
       "      <td>0.000000</td>\n",
       "      <td>462.780000</td>\n",
       "      <td>0.000000</td>\n",
       "      <td>1.0</td>\n",
       "      <td>0.000000</td>\n",
       "      <td>0.000000e+00</td>\n",
       "      <td>8.055900e+04</td>\n",
       "      <td>2.370000e+04</td>\n",
       "    </tr>\n",
       "    <tr>\n",
       "      <th>75%</th>\n",
       "      <td>5.490814e+07</td>\n",
       "      <td>5.847135e+07</td>\n",
       "      <td>20000.000000</td>\n",
       "      <td>20000.000000</td>\n",
       "      <td>20000.000000</td>\n",
       "      <td>16.200000</td>\n",
       "      <td>572.600000</td>\n",
       "      <td>9.000000e+04</td>\n",
       "      <td>0.000000</td>\n",
       "      <td>23.950000</td>\n",
       "      <td>...</td>\n",
       "      <td>0.000000</td>\n",
       "      <td>0.000000</td>\n",
       "      <td>0.000000</td>\n",
       "      <td>831.245000</td>\n",
       "      <td>0.000000</td>\n",
       "      <td>1.0</td>\n",
       "      <td>0.000000</td>\n",
       "      <td>0.000000e+00</td>\n",
       "      <td>1.957940e+05</td>\n",
       "      <td>3.780000e+04</td>\n",
       "    </tr>\n",
       "    <tr>\n",
       "      <th>max</th>\n",
       "      <td>6.861706e+07</td>\n",
       "      <td>7.354484e+07</td>\n",
       "      <td>35000.000000</td>\n",
       "      <td>35000.000000</td>\n",
       "      <td>35000.000000</td>\n",
       "      <td>28.990000</td>\n",
       "      <td>1445.460000</td>\n",
       "      <td>9.500000e+06</td>\n",
       "      <td>1.000000</td>\n",
       "      <td>9999.000000</td>\n",
       "      <td>...</td>\n",
       "      <td>358.680000</td>\n",
       "      <td>33520.270000</td>\n",
       "      <td>7002.190000</td>\n",
       "      <td>36475.590000</td>\n",
       "      <td>20.000000</td>\n",
       "      <td>1.0</td>\n",
       "      <td>14.000000</td>\n",
       "      <td>9.152545e+06</td>\n",
       "      <td>8.000078e+06</td>\n",
       "      <td>9.999999e+06</td>\n",
       "    </tr>\n",
       "  </tbody>\n",
       "</table>\n",
       "<p>8 rows × 34 columns</p>\n",
       "</div>"
      ],
      "text/plain": [
       "                 id     member_id      loan_amnt    funded_amnt  \\\n",
       "count  8.873790e+05  8.873790e+05  887379.000000  887379.000000   \n",
       "mean   3.246513e+07  3.500182e+07   14755.264605   14741.877625   \n",
       "std    2.282734e+07  2.411335e+07    8435.455601    8429.897657   \n",
       "min    5.473400e+04  7.047300e+04     500.000000     500.000000   \n",
       "25%    9.206643e+06  1.087713e+07    8000.000000    8000.000000   \n",
       "50%    3.443327e+07  3.709528e+07   13000.000000   13000.000000   \n",
       "75%    5.490814e+07  5.847135e+07   20000.000000   20000.000000   \n",
       "max    6.861706e+07  7.354484e+07   35000.000000   35000.000000   \n",
       "\n",
       "       funded_amnt_inv       int_rate    installment    annual_inc  \\\n",
       "count    887379.000000  887379.000000  887379.000000  8.873790e+05   \n",
       "mean      14702.464383      13.246740     436.717127  7.502754e+04   \n",
       "std        8442.106732       4.381867     244.186593  6.469816e+04   \n",
       "min           0.000000       5.320000      15.670000  0.000000e+00   \n",
       "25%        8000.000000       9.990000     260.705000  4.500000e+04   \n",
       "50%       13000.000000      12.990000     382.550000  6.500000e+04   \n",
       "75%       20000.000000      16.200000     572.600000  9.000000e+04   \n",
       "max       35000.000000      28.990000    1445.460000  9.500000e+06   \n",
       "\n",
       "         loan_status            dti        ...         total_rec_late_fee  \\\n",
       "count  887379.000000  887379.000000        ...              887379.000000   \n",
       "mean        0.066284      18.157039        ...                   0.396692   \n",
       "std         0.248778      17.190626        ...                   4.087825   \n",
       "min         0.000000       0.000000        ...                   0.000000   \n",
       "25%         0.000000      11.910000        ...                   0.000000   \n",
       "50%         0.000000      17.650000        ...                   0.000000   \n",
       "75%         0.000000      23.950000        ...                   0.000000   \n",
       "max         1.000000    9999.000000        ...                 358.680000   \n",
       "\n",
       "          recoveries  collection_recovery_fee  last_pymnt_amnt  \\\n",
       "count  887379.000000            887379.000000    887379.000000   \n",
       "mean       45.919243                 4.880757      2164.145585   \n",
       "std       409.693874                63.125281      4794.783233   \n",
       "min         0.000000                 0.000000         0.000000   \n",
       "25%         0.000000                 0.000000       280.170000   \n",
       "50%         0.000000                 0.000000       462.780000   \n",
       "75%         0.000000                 0.000000       831.245000   \n",
       "max     33520.270000              7002.190000     36475.590000   \n",
       "\n",
       "       collections_12_mths_ex_med  policy_code  acc_now_delinq  tot_coll_amt  \\\n",
       "count               887379.000000     887379.0   887379.000000  8.873790e+05   \n",
       "mean                     0.014377          1.0        0.004991  2.078281e+02   \n",
       "std                      0.134180          0.0        0.077624  9.894829e+03   \n",
       "min                      0.000000          1.0        0.000000  0.000000e+00   \n",
       "25%                      0.000000          1.0        0.000000  0.000000e+00   \n",
       "50%                      0.000000          1.0        0.000000  0.000000e+00   \n",
       "75%                      0.000000          1.0        0.000000  0.000000e+00   \n",
       "max                     20.000000          1.0       14.000000  9.152545e+06   \n",
       "\n",
       "        tot_cur_bal  total_rev_hi_lim  \n",
       "count  8.873790e+05      8.873790e+05  \n",
       "mean   1.347937e+05      3.140587e+04  \n",
       "std    1.483912e+05      3.605369e+04  \n",
       "min    0.000000e+00      0.000000e+00  \n",
       "25%    3.224600e+04      1.470000e+04  \n",
       "50%    8.055900e+04      2.370000e+04  \n",
       "75%    1.957940e+05      3.780000e+04  \n",
       "max    8.000078e+06      9.999999e+06  \n",
       "\n",
       "[8 rows x 34 columns]"
      ]
     },
     "execution_count": 20,
     "metadata": {},
     "output_type": "execute_result"
    }
   ],
   "source": [
    "# Display basic statistics\n",
    "df[numerical].describe()"
   ]
  },
  {
   "cell_type": "markdown",
   "metadata": {
    "colab_type": "text",
    "id": "UcUJN-ccD-Tc"
   },
   "source": [
    "Two things bring my attention here: \n",
    "\n",
    "- both *id* and *member_id* are just ordinal numbers that can be deleted without having any negative impact on our model and make it lighter\n",
    "- max number in *dti* looks suspicious comparing to its mean and standard deviation; these outliers need be checked and possibly changed"
   ]
  },
  {
   "cell_type": "code",
   "execution_count": 21,
   "metadata": {
    "colab": {
     "autoexec": {
      "startup": false,
      "wait_interval": 0
     }
    },
    "colab_type": "code",
    "collapsed": true,
    "id": "Xj-zUuXpFYNc"
   },
   "outputs": [],
   "source": [
    "# Delete 'id' and 'member_id' column\n",
    "df.drop(['id', 'member_id'], axis=1, inplace=True)"
   ]
  },
  {
   "cell_type": "code",
   "execution_count": 22,
   "metadata": {
    "colab": {
     "autoexec": {
      "startup": false,
      "wait_interval": 0
     }
    },
    "colab_type": "code",
    "id": "M-gW9UNIvQ1v",
    "outputId": "ac951c64-3ab5-4e69-9fd7-0be738456a4b"
   },
   "outputs": [
    {
     "data": {
      "text/plain": [
       "475046    1092.52\n",
       "476900     137.40\n",
       "480179     136.97\n",
       "484446    9999.00\n",
       "489021     100.09\n",
       "521751     120.66\n",
       "531886    9999.00\n",
       "532701     380.53\n",
       "540456     672.52\n",
       "544139     125.25\n",
       "563635     104.00\n",
       "Name: dti, dtype: float64"
      ]
     },
     "execution_count": 22,
     "metadata": {},
     "output_type": "execute_result"
    }
   ],
   "source": [
    "# Find outliers in 'dti' column\n",
    "df.dti[df.dti > 100]"
   ]
  },
  {
   "cell_type": "code",
   "execution_count": 23,
   "metadata": {
    "colab": {
     "autoexec": {
      "startup": false,
      "wait_interval": 0
     }
    },
    "colab_type": "code",
    "collapsed": true,
    "id": "wa-FEQQ4vQ1x"
   },
   "outputs": [],
   "source": [
    "# Replace unrealistic figures with median\n",
    "df.dti.iloc[[484446, 531886]] = df.dti.median()"
   ]
  },
  {
   "cell_type": "markdown",
   "metadata": {
    "colab_type": "text",
    "id": "P-PUHtQPCAV8"
   },
   "source": [
    "Since most machine learning models require numbers only, the next step is to convert everything into numbers."
   ]
  },
  {
   "cell_type": "code",
   "execution_count": 24,
   "metadata": {
    "colab": {
     "autoexec": {
      "startup": false,
      "wait_interval": 0
     }
    },
    "colab_type": "code",
    "collapsed": true,
    "id": "c60hWOqtvQ1y"
   },
   "outputs": [],
   "source": [
    "# Change a category to respective number\n",
    "for n, c in df.items():\n",
    "    if not is_numeric_dtype(c):\n",
    "        df[n] = c.cat.codes"
   ]
  },
  {
   "cell_type": "markdown",
   "metadata": {
    "colab_type": "text",
    "id": "dT3SLC6OICXD"
   },
   "source": [
    "It is time for the final look into the pre-processed dataframe"
   ]
  },
  {
   "cell_type": "code",
   "execution_count": 25,
   "metadata": {
    "colab": {
     "autoexec": {
      "startup": false,
      "wait_interval": 0
     }
    },
    "colab_type": "code",
    "id": "zSL1ogwoH9-l",
    "outputId": "68ffc912-5a12-40d1-b987-b023728f8259"
   },
   "outputs": [
    {
     "data": {
      "text/html": [
       "<div>\n",
       "<style>\n",
       "    .dataframe thead tr:only-child th {\n",
       "        text-align: right;\n",
       "    }\n",
       "\n",
       "    .dataframe thead th {\n",
       "        text-align: left;\n",
       "    }\n",
       "\n",
       "    .dataframe tbody tr th {\n",
       "        vertical-align: top;\n",
       "    }\n",
       "</style>\n",
       "<table border=\"1\" class=\"dataframe\">\n",
       "  <thead>\n",
       "    <tr style=\"text-align: right;\">\n",
       "      <th></th>\n",
       "      <th>loan_amnt</th>\n",
       "      <th>funded_amnt</th>\n",
       "      <th>funded_amnt_inv</th>\n",
       "      <th>term</th>\n",
       "      <th>int_rate</th>\n",
       "      <th>installment</th>\n",
       "      <th>grade</th>\n",
       "      <th>sub_grade</th>\n",
       "      <th>emp_title</th>\n",
       "      <th>emp_length</th>\n",
       "      <th>...</th>\n",
       "      <th>last_pymnt_amnt</th>\n",
       "      <th>next_pymnt_d</th>\n",
       "      <th>last_credit_pull_d</th>\n",
       "      <th>collections_12_mths_ex_med</th>\n",
       "      <th>policy_code</th>\n",
       "      <th>application_type</th>\n",
       "      <th>acc_now_delinq</th>\n",
       "      <th>tot_coll_amt</th>\n",
       "      <th>tot_cur_bal</th>\n",
       "      <th>total_rev_hi_lim</th>\n",
       "    </tr>\n",
       "  </thead>\n",
       "  <tbody>\n",
       "    <tr>\n",
       "      <th>0</th>\n",
       "      <td>5000.0</td>\n",
       "      <td>5000.0</td>\n",
       "      <td>4975.0</td>\n",
       "      <td>0</td>\n",
       "      <td>10.65</td>\n",
       "      <td>162.87</td>\n",
       "      <td>1</td>\n",
       "      <td>6</td>\n",
       "      <td>228736</td>\n",
       "      <td>10</td>\n",
       "      <td>...</td>\n",
       "      <td>171.62</td>\n",
       "      <td>33</td>\n",
       "      <td>41</td>\n",
       "      <td>0.0</td>\n",
       "      <td>1.0</td>\n",
       "      <td>0</td>\n",
       "      <td>0.0</td>\n",
       "      <td>0.0</td>\n",
       "      <td>80559.0</td>\n",
       "      <td>23700.0</td>\n",
       "    </tr>\n",
       "    <tr>\n",
       "      <th>1</th>\n",
       "      <td>2500.0</td>\n",
       "      <td>2500.0</td>\n",
       "      <td>2500.0</td>\n",
       "      <td>1</td>\n",
       "      <td>15.27</td>\n",
       "      <td>59.83</td>\n",
       "      <td>2</td>\n",
       "      <td>13</td>\n",
       "      <td>191489</td>\n",
       "      <td>0</td>\n",
       "      <td>...</td>\n",
       "      <td>119.66</td>\n",
       "      <td>33</td>\n",
       "      <td>100</td>\n",
       "      <td>0.0</td>\n",
       "      <td>1.0</td>\n",
       "      <td>0</td>\n",
       "      <td>0.0</td>\n",
       "      <td>0.0</td>\n",
       "      <td>80559.0</td>\n",
       "      <td>23700.0</td>\n",
       "    </tr>\n",
       "    <tr>\n",
       "      <th>2</th>\n",
       "      <td>2400.0</td>\n",
       "      <td>2400.0</td>\n",
       "      <td>2400.0</td>\n",
       "      <td>0</td>\n",
       "      <td>15.96</td>\n",
       "      <td>84.33</td>\n",
       "      <td>2</td>\n",
       "      <td>14</td>\n",
       "      <td>228736</td>\n",
       "      <td>10</td>\n",
       "      <td>...</td>\n",
       "      <td>649.91</td>\n",
       "      <td>33</td>\n",
       "      <td>41</td>\n",
       "      <td>0.0</td>\n",
       "      <td>1.0</td>\n",
       "      <td>0</td>\n",
       "      <td>0.0</td>\n",
       "      <td>0.0</td>\n",
       "      <td>80559.0</td>\n",
       "      <td>23700.0</td>\n",
       "    </tr>\n",
       "    <tr>\n",
       "      <th>3</th>\n",
       "      <td>10000.0</td>\n",
       "      <td>10000.0</td>\n",
       "      <td>10000.0</td>\n",
       "      <td>0</td>\n",
       "      <td>13.49</td>\n",
       "      <td>339.31</td>\n",
       "      <td>2</td>\n",
       "      <td>10</td>\n",
       "      <td>3274</td>\n",
       "      <td>10</td>\n",
       "      <td>...</td>\n",
       "      <td>357.48</td>\n",
       "      <td>33</td>\n",
       "      <td>40</td>\n",
       "      <td>0.0</td>\n",
       "      <td>1.0</td>\n",
       "      <td>0</td>\n",
       "      <td>0.0</td>\n",
       "      <td>0.0</td>\n",
       "      <td>80559.0</td>\n",
       "      <td>23700.0</td>\n",
       "    </tr>\n",
       "    <tr>\n",
       "      <th>4</th>\n",
       "      <td>3000.0</td>\n",
       "      <td>3000.0</td>\n",
       "      <td>3000.0</td>\n",
       "      <td>1</td>\n",
       "      <td>12.69</td>\n",
       "      <td>67.79</td>\n",
       "      <td>1</td>\n",
       "      <td>9</td>\n",
       "      <td>241927</td>\n",
       "      <td>1</td>\n",
       "      <td>...</td>\n",
       "      <td>67.79</td>\n",
       "      <td>33</td>\n",
       "      <td>41</td>\n",
       "      <td>0.0</td>\n",
       "      <td>1.0</td>\n",
       "      <td>0</td>\n",
       "      <td>0.0</td>\n",
       "      <td>0.0</td>\n",
       "      <td>80559.0</td>\n",
       "      <td>23700.0</td>\n",
       "    </tr>\n",
       "  </tbody>\n",
       "</table>\n",
       "<p>5 rows × 51 columns</p>\n",
       "</div>"
      ],
      "text/plain": [
       "   loan_amnt  funded_amnt  funded_amnt_inv  term  int_rate  installment  \\\n",
       "0     5000.0       5000.0           4975.0     0     10.65       162.87   \n",
       "1     2500.0       2500.0           2500.0     1     15.27        59.83   \n",
       "2     2400.0       2400.0           2400.0     0     15.96        84.33   \n",
       "3    10000.0      10000.0          10000.0     0     13.49       339.31   \n",
       "4     3000.0       3000.0           3000.0     1     12.69        67.79   \n",
       "\n",
       "   grade  sub_grade  emp_title  emp_length        ...         last_pymnt_amnt  \\\n",
       "0      1          6     228736          10        ...                  171.62   \n",
       "1      2         13     191489           0        ...                  119.66   \n",
       "2      2         14     228736          10        ...                  649.91   \n",
       "3      2         10       3274          10        ...                  357.48   \n",
       "4      1          9     241927           1        ...                   67.79   \n",
       "\n",
       "   next_pymnt_d  last_credit_pull_d  collections_12_mths_ex_med  policy_code  \\\n",
       "0            33                  41                         0.0          1.0   \n",
       "1            33                 100                         0.0          1.0   \n",
       "2            33                  41                         0.0          1.0   \n",
       "3            33                  40                         0.0          1.0   \n",
       "4            33                  41                         0.0          1.0   \n",
       "\n",
       "   application_type  acc_now_delinq  tot_coll_amt  tot_cur_bal  \\\n",
       "0                 0             0.0           0.0      80559.0   \n",
       "1                 0             0.0           0.0      80559.0   \n",
       "2                 0             0.0           0.0      80559.0   \n",
       "3                 0             0.0           0.0      80559.0   \n",
       "4                 0             0.0           0.0      80559.0   \n",
       "\n",
       "   total_rev_hi_lim  \n",
       "0           23700.0  \n",
       "1           23700.0  \n",
       "2           23700.0  \n",
       "3           23700.0  \n",
       "4           23700.0  \n",
       "\n",
       "[5 rows x 51 columns]"
      ]
     },
     "execution_count": 25,
     "metadata": {},
     "output_type": "execute_result"
    }
   ],
   "source": [
    "# Show 5 first lines\n",
    "df.head()"
   ]
  },
  {
   "cell_type": "markdown",
   "metadata": {
    "colab_type": "text",
    "id": "EQauqrYdIXf9"
   },
   "source": [
    "The last step of pre-processing stage I mentioned earlier is **sampling**. Firstly, I will create a helper function for dataframe downsizing. This will significantly improve the computation time required for hyperparamater tuning process in complex algorithms like Random Forest or XGB. Next, I will split the data frame into Labels and Target and finish this section by splitting all data into train/test sets containing 70%/30% of all clients respectively. It is also good practice to perform a split so that the labels are distributed in train and test sets as they are in the original dataset. To achieve this we use the keyword argument: **stratify = y**."
   ]
  },
  {
   "cell_type": "code",
   "execution_count": 26,
   "metadata": {
    "colab": {
     "autoexec": {
      "startup": false,
      "wait_interval": 0
     }
    },
    "colab_type": "code",
    "collapsed": true,
    "id": "x3o9h9JzIoCr"
   },
   "outputs": [],
   "source": [
    "# Get a sample of the dataframe\n",
    "def sample(df, num):\n",
    "    index = sorted(np.random.permutation(len(df))[:num])\n",
    "    return df.iloc[index].copy()"
   ]
  },
  {
   "cell_type": "code",
   "execution_count": 27,
   "metadata": {
    "colab": {
     "autoexec": {
      "startup": false,
      "wait_interval": 0
     }
    },
    "colab_type": "code",
    "collapsed": true,
    "id": "BBFmruSDRVXZ"
   },
   "outputs": [],
   "source": [
    "# Drop the dependent variable from the original dataset\n",
    "X = df.drop(['loan_status'], axis=1)\n",
    "\n",
    "# Assign the dependent variable into a separate variable\n",
    "y = df['loan_status']"
   ]
  },
  {
   "cell_type": "code",
   "execution_count": 28,
   "metadata": {
    "colab": {
     "autoexec": {
      "startup": false,
      "wait_interval": 0
     }
    },
    "colab_type": "code",
    "collapsed": true,
    "id": "0qj5cfoaRVXe"
   },
   "outputs": [],
   "source": [
    "# Create train and test sets\n",
    "X_train, X_test, y_train, y_test = train_test_split(X, y, test_size = 0.3, random_state = 2606, stratify=y)"
   ]
  },
  {
   "cell_type": "markdown",
   "metadata": {
    "colab_type": "text",
    "id": "ZCfox1PsnkJp"
   },
   "source": [
    "## Metrics\n",
    "\n",
    "It is important to choose appropriate metric for a project. \n",
    "\n",
    "In classification, to measure model performance, *accuracy* is a commonly-used metric. It tells us what is a fraction of correctly classified samples. However, accuracy is not always the most effective metric. In our problem, 93.1% are *not-default clients* and only 6.9% are *default clients*. We can build a baseline model that classifies all clients as *not-default*. This model would be correct 93.1% of the time and thus have an accuracy of 93.1%. \n",
    "\n",
    "In that case, this naive classifier would do a horrible job of predicting *default customers*. It never makes such prediction, so it completely fails at its original purpose. The situation, when one class occurs more frequent is called class imbalance and requires a more nuanced metric to assess the performance of our models. \n",
    "\n",
    "Given a binary classification task, we can draw up a confusion matrix that summarizes predictive performance. It is 2x2 matrix providing us with following rates:\n",
    "\n",
    "True Positive - the number of default customers correctly labelled\n",
    "\n",
    "True Negative - the number of not-default customers correctly labelled\n",
    "\n",
    "False Negative - the number of not-default customers incorrectly labelled\n",
    "\n",
    "False Positive - the number of default customers incorrectly labelled\n",
    "\n",
    "In case of Lending Club, high rate of False Negatives can be devastating, as the lent money is lost. This scenario is much more costly than a high rate of False Positives when merely potential earnings are restricted.\n",
    "\n",
    "I will display also additional metrics to support our models evaluation:\n",
    "\n",
    "High Precision - if we predict 'default customer', it's very likely a correct prediction \n",
    "\n",
    "High Recall (Sensitivity) - if a customer is 'default', we usually predict this fact correctly\n",
    "\n",
    "The F1 score is a weighted average of *precision* and *recall*.\n",
    "\n",
    "The ROC curve helps us choose the best probability threshold to achieve optimal True Positive / False Positive ratio. \n",
    "The larger area under ROC curve, the better our model is. This area is commonly denoted as AUC, and this is another metric for classification models. In this research, I consider **AUC** as the metric that determines the overall performance of a model, and thus I will do my best to achieve as high result as possible. On top of that, I will try to minimize False Negative rate.\n",
    "\n",
    "Now, I will create a few helper functions to call them later for making a summary of each model."
   ]
  },
  {
   "cell_type": "code",
   "execution_count": 29,
   "metadata": {
    "colab": {
     "autoexec": {
      "startup": false,
      "wait_interval": 0
     }
    },
    "colab_type": "code",
    "collapsed": true,
    "id": "D0Rf6zyUvQ1-"
   },
   "outputs": [],
   "source": [
    "  def print_score(a):\n",
    "    \n",
    "    # Compute and print accuracy for training and test set\n",
    "    print(\"Training accuracy: {}, Test accuracy: {}\".format(a.score(X_train, y_train), a.score(X_test, y_test)))\n",
    "    \n",
    "    # Compute predicted probabilities: y_pred_prob\n",
    "    y_pred_prob = a.predict_proba(X_test)[:,1]\n",
    "\n",
    "    # Compute and print AUC score\n",
    "    print(\"AUC: {}\".format(roc_auc_score(y_test, y_pred_prob)))"
   ]
  },
  {
   "cell_type": "code",
   "execution_count": 30,
   "metadata": {
    "colab": {
     "autoexec": {
      "startup": false,
      "wait_interval": 0
     }
    },
    "colab_type": "code",
    "collapsed": true,
    "id": "CPMBjbGCgX2d"
   },
   "outputs": [],
   "source": [
    "def report(a):\n",
    "        \n",
    "    # Compute predictions on test set\n",
    "    y_pred = a.predict(X_test)\n",
    "    \n",
    "    # Print classification report\n",
    "    print(\"Classification Report:\\n{}\".format(classification_report(y_test, y_pred)))\n",
    "    \n",
    "    # Print confusion matrix\n",
    "    print(\"Confusion Matrix:\\n{}\".format(confusion_matrix(y_test, y_pred)))"
   ]
  },
  {
   "cell_type": "code",
   "execution_count": 31,
   "metadata": {
    "colab": {
     "autoexec": {
      "startup": false,
      "wait_interval": 0
     }
    },
    "colab_type": "code",
    "collapsed": true,
    "id": "9qJi8IPuvQ2C"
   },
   "outputs": [],
   "source": [
    "def plot_ROC(a):\n",
    "\n",
    "    # Compute predicted probabilities: y_pred_prob\n",
    "    y_pred_prob = a.predict_proba(X_test)[:,1]\n",
    "\n",
    "    # Generate ROC curve values: fpr, tpr, thresholds\n",
    "    fpr, tpr, thresholds = roc_curve(y_test, y_pred_prob)\n",
    "\n",
    "    # Plot ROC curve\n",
    "    plt.plot([0, 1], [0, 1], 'k--')\n",
    "    plt.plot(fpr, tpr)\n",
    "    plt.xlabel('False Positive Rate')\n",
    "    plt.ylabel('True Positive Rate')\n",
    "    plt.title('ROC Curve')\n",
    "    plt.show()"
   ]
  },
  {
   "cell_type": "markdown",
   "metadata": {
    "colab_type": "text",
    "id": "jmuYuM8HvQ2L"
   },
   "source": [
    "## Machine Learning\n",
    "\n",
    "We are well prepared now for an endeavour to create a robust and accurate predictive model.\n",
    "\n",
    "### Logistic Regression\n",
    "\n",
    "It is a good practice to start with a simple model that solves the problem and think about it as a baseline. Logistic Regression is perceived as a go-to method for binary classification problems. Calculations run quickly and is easy to interpret.\n",
    "It assumes Gaussian Distribution, hence *standardization* is essential for using this algorithm. Here, I introduce a useful *sklearn* module,  **pipeline**, which lets me apply standardization and run a model in just one line of code. "
   ]
  },
  {
   "cell_type": "code",
   "execution_count": 32,
   "metadata": {
    "colab": {
     "autoexec": {
      "startup": false,
      "wait_interval": 0
     }
    },
    "colab_type": "code",
    "id": "nEj1VTlfvQ2T",
    "outputId": "955908a5-2431-4d6a-aa83-e8f637f45e9d"
   },
   "outputs": [
    {
     "name": "stdout",
     "output_type": "stream",
     "text": [
      "Wall time: 1min 40s\n",
      "Training accuracy: 0.9898271795738652, Test accuracy: 0.9895798117304124\n",
      "AUC: 0.971372807756555\n"
     ]
    }
   ],
   "source": [
    "# Instantiate a standardization function and classification method (Logistc Regression) and input them as arguments for the pipeline\n",
    "LR_pipe = Pipeline([('standardize', StandardScaler()), ('classification', LogisticRegression())])\n",
    "# Fit the model\n",
    "%time LR_pipe.fit(X_train, y_train)\n",
    "# Print accuracy metrics defined before in function: 'print_score'\n",
    "print_score(LR_pipe)"
   ]
  },
  {
   "cell_type": "markdown",
   "metadata": {
    "colab_type": "text",
    "id": "8z-eBB9b57Wi"
   },
   "source": [
    "This is our first model and at the same a kind of benchmark for next ones. Very high accuracy and AUC suggest that all models will be competing for decimal numbers. "
   ]
  },
  {
   "cell_type": "code",
   "execution_count": 33,
   "metadata": {
    "colab": {
     "autoexec": {
      "startup": false,
      "wait_interval": 0
     }
    },
    "colab_type": "code",
    "id": "MqQkqLtZvQ2b",
    "outputId": "ce22c435-dbd6-443e-ece7-9f1becc36887"
   },
   "outputs": [
    {
     "name": "stdout",
     "output_type": "stream",
     "text": [
      "Classification Report:\n",
      "             precision    recall  f1-score   support\n",
      "\n",
      "          0       0.99      1.00      0.99    248568\n",
      "          1       0.97      0.87      0.92     17646\n",
      "\n",
      "avg / total       0.99      0.99      0.99    266214\n",
      "\n",
      "Confusion Matrix:\n",
      "[[248166    402]\n",
      " [  2372  15274]]\n"
     ]
    }
   ],
   "source": [
    "# Display a classification report and a confusion matrix\n",
    "report(LR_pipe)"
   ]
  },
  {
   "cell_type": "markdown",
   "metadata": {
    "colab_type": "text",
    "id": "GnbshGMM72E1"
   },
   "source": [
    "Precision/recall/f1-score metrics almost reached the maximum edge, so they will not be very useful for performance assessment.\n",
    "\n",
    "Conversely, from confusion matrix, we learn that our model 402 times (FP) falsely predicted that customer will default and 2372 times (FN) falsely predicted that a client will not default (expensive mistake!)."
   ]
  },
  {
   "cell_type": "code",
   "execution_count": 34,
   "metadata": {
    "colab": {
     "autoexec": {
      "startup": false,
      "wait_interval": 0
     }
    },
    "colab_type": "code",
    "id": "0ebhn6LdgX2r",
    "outputId": "83a2bed7-4f25-4e05-8f1a-c0fcfe774924"
   },
   "outputs": [
    {
     "data": {
      "image/png": "[encoded data removed]",
      "text/plain": [
       "<matplotlib.figure.Figure at 0x25ece0f3160>"
      ]
     },
     "metadata": {},
     "output_type": "display_data"
    }
   ],
   "source": [
    "# Display ROC\n",
    "plot_ROC(LR_pipe)"
   ]
  },
  {
   "cell_type": "markdown",
   "metadata": {
    "colab_type": "text",
    "id": "v6OY0CkL80kG"
   },
   "source": [
    "The accuracy is so high, that it is almost impossible to read off the optimal probability threshold for TP/FP ratio"
   ]
  },
  {
   "cell_type": "markdown",
   "metadata": {
    "colab_type": "text",
    "id": "xFiuK7BoA5PE"
   },
   "source": [
    "### Random Forest\n",
    "\n",
    "It is a sort of universal Machine Learning technique, a way of predicting something that could be of any kind - category (like this problem) or continues variable (like price). In general, it does not overfit too badly and it is not hard to stop it from overfitting. It has few (if any) statistical assumptions. It does not assume that given data is normally distributed, relationships are linear, or that interactions have been specified. It requires relatively few feature engineering, like for example taking 'log' of the data.\n",
    "\n",
    "Random Forest algorithm is based on bagging trees. The idea of **bagging** is to create a couple of subsets of data and used to train the model. For example imagine as if we created five different models, each of which was only somewhat predictive, but the models were not correlated with each other. Five models would have a different insight into the relationships of the data. If we took average of them, we end up with the ensemble of different models. The number of said models can be set using *n_estimators* hyperparameter.\n",
    "\n",
    "Comparing to Logistic Regression, Random Forest is not so easy to explain due to higher complexity. However, there are some tools making it possible. I will create now a helper function to retrieve the most important features that influence our model performance."
   ]
  },
  {
   "cell_type": "code",
   "execution_count": 35,
   "metadata": {
    "colab": {
     "autoexec": {
      "startup": false,
      "wait_interval": 0
     }
    },
    "colab_type": "code",
    "collapsed": true,
    "id": "YFZ8uJQ4vQ2r"
   },
   "outputs": [],
   "source": [
    "# Create a function for plotting feature importances\n",
    "def plot_feat_imp(alg):\n",
    "    indices = np.argsort(alg.feature_importances_)[::-1][:15]\n",
    "\n",
    "    fig = plt.figure(figsize=(6, 9))\n",
    "    p = sns.barplot(y=df.columns[indices][:15], x = alg.feature_importances_[indices][:15], orient='h')\n",
    "    p.set_xlabel(\"Relative importance\",fontsize=12)\n",
    "    p.set_ylabel(\"Features\",fontsize=12)\n",
    "    p.tick_params(labelsize=9)\n",
    "    p.set_title(\"Selected classifier feature importance\")\n",
    "\n",
    "    plt.show()"
   ]
  },
  {
   "cell_type": "markdown",
   "metadata": {
    "colab_type": "text",
    "id": "_J4fTiqAdg5o"
   },
   "source": [
    "It's time to train initial RF models."
   ]
  },
  {
   "cell_type": "code",
   "execution_count": 36,
   "metadata": {
    "colab": {
     "autoexec": {
      "startup": false,
      "wait_interval": 0
     }
    },
    "colab_type": "code",
    "id": "v3uHGRAbdUhU"
   },
   "outputs": [
    {
     "name": "stdout",
     "output_type": "stream",
     "text": [
      "Wall time: 21.7 s\n",
      "Training accuracy: 0.9993383400545749, Test accuracy: 0.9958567167767285\n",
      "AUC: 0.9882215555113154\n"
     ]
    }
   ],
   "source": [
    "# Simple Random Forrest model\n",
    "simple_RF = RandomForestClassifier(n_jobs=-1, random_state=2606)\n",
    "%time simple_RF.fit(X_train, y_train)\n",
    "print_score(simple_RF)"
   ]
  },
  {
   "cell_type": "code",
   "execution_count": 37,
   "metadata": {
    "colab": {
     "autoexec": {
      "startup": false,
      "wait_interval": 0
     }
    },
    "colab_type": "code",
    "id": "Ja8_kirQvQ2u",
    "outputId": "898c47e5-d1ea-4e0a-c18e-8a1659a9aaa3"
   },
   "outputs": [
    {
     "name": "stdout",
     "output_type": "stream",
     "text": [
      "Wall time: 1min 19s\n",
      "Training accuracy: 0.9998969677943863, Test accuracy: 0.9964201732440818\n",
      "AUC: 0.9917945783998174\n"
     ]
    }
   ],
   "source": [
    "# Increase the number of estimators\n",
    "tuned_RF = RandomForestClassifier(n_estimators=40, n_jobs=-1, random_state=2606)\n",
    "%time tuned_RF.fit(X_train, y_train)\n",
    "print_score(tuned_RF)"
   ]
  },
  {
   "cell_type": "markdown",
   "metadata": {
    "colab_type": "text",
    "id": "YiNSwmOTgX21"
   },
   "source": [
    "These results are very promising! Comparing to Logistic Regression, AUC rate increased by about 0.2, what might be considered as significant growth given the very high accuracy already achieved. \n",
    "\n",
    "### Speeding things up\n",
    "\n",
    "Hyperparameter tuning in machine learning models usually lengthens the training time. In order to mitigate the increase, I will use a function to get a certain sample of randomly chosen rows and then split them the same way as the entire dataset. Effectively, I will be able to find optimal hyperparameter setup in a reasonable time and eventually use it to train the final model. "
   ]
  },
  {
   "cell_type": "code",
   "execution_count": 38,
   "metadata": {
    "colab": {
     "autoexec": {
      "startup": false,
      "wait_interval": 0
     }
    },
    "colab_type": "code",
    "collapsed": true,
    "id": "1qdktR6LgX22"
   },
   "outputs": [],
   "source": [
    "# Create a copy of the dataframe downsized to given number of rows\n",
    "def sample(df, num):\n",
    "    np.random.seed(2606)\n",
    "    index = sorted(np.random.permutation(len(df))[:num])\n",
    "    return df.iloc[index].copy()"
   ]
  },
  {
   "cell_type": "code",
   "execution_count": 39,
   "metadata": {
    "colab": {
     "autoexec": {
      "startup": false,
      "wait_interval": 0
     }
    },
    "colab_type": "code",
    "collapsed": true,
    "id": "hEsDGoThgX26"
   },
   "outputs": [],
   "source": [
    "# Create downsized dataframe using 'sample' function\n",
    "df_small = sample(df, 50000)\n",
    "\n",
    "# Drop the dependent variable from the downsized dataset\n",
    "X = df_small.drop(['loan_status'], axis=1)\n",
    "\n",
    "# Extract the dependent variable into a separate variable\n",
    "y = df_small['loan_status']\n",
    "\n",
    "# Split the dataframe\n",
    "X_train, X_test, y_train, y_test = train_test_split(X, y, test_size = 0.3, random_state = 2606, stratify=y)"
   ]
  },
  {
   "cell_type": "code",
   "execution_count": 40,
   "metadata": {
    "colab": {
     "autoexec": {
      "startup": false,
      "wait_interval": 0
     }
    },
    "colab_type": "code",
    "id": "Vp-fJ9RqgX3A",
    "outputId": "72608b50-d47f-48e6-e134-9752dfadb6b6"
   },
   "outputs": [
    {
     "name": "stdout",
     "output_type": "stream",
     "text": [
      "Wall time: 2.44 s\n",
      "Training accuracy: 0.9998285714285714, Test accuracy: 0.9948666666666667\n",
      "AUC: 0.9906878701355525\n"
     ]
    }
   ],
   "source": [
    "# Train Random Forest model on small data sample\n",
    "small_RF = RandomForestClassifier(n_estimators=40, n_jobs=-1, random_state=2606)\n",
    "%time small_RF.fit(X_train, y_train)\n",
    "print_score(small_RF)"
   ]
  },
  {
   "cell_type": "markdown",
   "metadata": {},
   "source": [
    "As expected, a small sample of data produced a bit worse result than the corresponding model with all the data. At the same time, processing time decreased drastically. Now, I am able to apply a very computational costly *grid search* that will help me obtain the optimum hyperparameters. "
   ]
  },
  {
   "cell_type": "code",
   "execution_count": 41,
   "metadata": {
    "colab": {
     "autoexec": {
      "startup": false,
      "wait_interval": 0
     }
    },
    "colab_type": "code",
    "id": "GiX1uZD_gX3E"
   },
   "outputs": [],
   "source": [
    "# Select hyperparameters for testing\n",
    "param_grid = { \n",
    "    'max_features': [0.5, 'sqrt', 'log2'],\n",
    "    'max_depth' : [None, 8, 10],\n",
    "    'min_samples_leaf' :[1, 3, 5]\n",
    "}"
   ]
  },
  {
   "cell_type": "code",
   "execution_count": 42,
   "metadata": {
    "colab": {
     "autoexec": {
      "startup": false,
      "wait_interval": 0
     }
    },
    "colab_type": "code",
    "id": "GXm3Qr0WgX3J",
    "outputId": "1c9b2b9c-343e-42d9-e3e7-8640e98193a1"
   },
   "outputs": [
    {
     "name": "stdout",
     "output_type": "stream",
     "text": [
      "Wall time: 1min 29s\n"
     ]
    },
    {
     "data": {
      "text/plain": [
       "GridSearchCV(cv=2, error_score='raise',\n",
       "       estimator=RandomForestClassifier(bootstrap=True, class_weight=None, criterion='gini',\n",
       "            max_depth=None, max_features='auto', max_leaf_nodes=None,\n",
       "            min_impurity_decrease=0.0, min_impurity_split=None,\n",
       "            min_samples_leaf=1, min_samples_split=2,\n",
       "            min_weight_fraction_leaf=0.0, n_estimators=40, n_jobs=1,\n",
       "            oob_score=False, random_state=2606, verbose=0,\n",
       "            warm_start=False),\n",
       "       fit_params=None, iid=True, n_jobs=-1,\n",
       "       param_grid={'max_features': [0.5, 'sqrt', 'log2'], 'max_depth': [None, 8, 10], 'min_samples_leaf': [1, 3, 5]},\n",
       "       pre_dispatch='2*n_jobs', refit=True, return_train_score=True,\n",
       "       scoring=None, verbose=0)"
      ]
     },
     "execution_count": 42,
     "metadata": {},
     "output_type": "execute_result"
    }
   ],
   "source": [
    "# Instantiate a \"grid search\" and fit it into small data\n",
    "CV_RF = GridSearchCV(estimator=RandomForestClassifier(n_estimators=40, random_state=2606), param_grid=param_grid, cv=2, n_jobs=-1)\n",
    "%time CV_RF.fit(X_train, y_train)"
   ]
  },
  {
   "cell_type": "code",
   "execution_count": 43,
   "metadata": {
    "colab": {
     "autoexec": {
      "startup": false,
      "wait_interval": 0
     }
    },
    "colab_type": "code",
    "id": "UaNsuuOWgX3L",
    "outputId": "3edfc000-f51f-4cb6-920f-fe3dae778d8f"
   },
   "outputs": [
    {
     "data": {
      "text/plain": [
       "{'max_depth': None, 'max_features': 0.5, 'min_samples_leaf': 3}"
      ]
     },
     "execution_count": 43,
     "metadata": {},
     "output_type": "execute_result"
    }
   ],
   "source": [
    "# Show the best parameters\n",
    "CV_RF.best_params_"
   ]
  },
  {
   "cell_type": "markdown",
   "metadata": {},
   "source": [
    "Since the optimal parameters are known, I will stick to them in further experiments."
   ]
  },
  {
   "cell_type": "code",
   "execution_count": 44,
   "metadata": {
    "colab": {
     "autoexec": {
      "startup": false,
      "wait_interval": 0
     }
    },
    "colab_type": "code",
    "id": "bXkIV-WQgX3N",
    "outputId": "9e4b6e44-fbad-4939-d4f1-aa60740d7a26"
   },
   "outputs": [
    {
     "name": "stdout",
     "output_type": "stream",
     "text": [
      "Wall time: 7.88 s\n",
      "Training accuracy: 0.9972857142857143, Test accuracy: 0.9961333333333333\n",
      "AUC: 0.9911666499958219\n"
     ]
    }
   ],
   "source": [
    "small_RF_tuned = RandomForestClassifier(n_estimators=40, min_samples_leaf=3, max_features=0.5, n_jobs=-1, random_state=2606)\n",
    "%time small_RF_tuned.fit(X_train, y_train)\n",
    "print_score(small_RF_tuned)"
   ]
  },
  {
   "cell_type": "markdown",
   "metadata": {},
   "source": [
    "Once optimum hyperparameters have been fixed, we should take a look at **feature importance** graph. Typically, Random Forest chooses a few dominant features that strongly impact the overall result. It is worth to check what could happen if we deleted one (or more) of those dominant features. There might be some relations occurring and breaking them can bring some positive results."
   ]
  },
  {
   "cell_type": "code",
   "execution_count": 45,
   "metadata": {
    "colab": {
     "autoexec": {
      "startup": false,
      "wait_interval": 0
     }
    },
    "colab_type": "code",
    "id": "bGaX5yOUgX3P",
    "outputId": "58f5d4eb-da58-482c-d88c-fe67d93dac4f"
   },
   "outputs": [
    {
     "data": {
      "image/png": "[encoded data removed]",
      "text/plain": [
       "<matplotlib.figure.Figure at 0x25e80d4f240>"
      ]
     },
     "metadata": {},
     "output_type": "display_data"
    }
   ],
   "source": [
    "# Display feature importance\n",
    "plot_feat_imp(small_RF_tuned)"
   ]
  },
  {
   "cell_type": "code",
   "execution_count": 46,
   "metadata": {
    "colab": {
     "autoexec": {
      "startup": false,
      "wait_interval": 0
     }
    },
    "colab_type": "code",
    "collapsed": true,
    "id": "aOCa1JiLgX3T"
   },
   "outputs": [],
   "source": [
    "# Select dominant features\n",
    "features = ['total_rec_late_fee', 'total_pymnt_inv', 'collection_recovery_fee', 'recoveries']"
   ]
  },
  {
   "cell_type": "code",
   "execution_count": 47,
   "metadata": {
    "colab": {
     "autoexec": {
      "startup": false,
      "wait_interval": 0
     }
    },
    "colab_type": "code",
    "id": "Eia4TU6CgX3W",
    "outputId": "eddae7aa-9996-43ed-f351-dbc8dab9bca6"
   },
   "outputs": [
    {
     "name": "stdout",
     "output_type": "stream",
     "text": [
      "total_rec_late_fee\n",
      "Training accuracy: 0.9966285714285714, Test accuracy: 0.9963333333333333\n",
      "AUC: 0.9882215200473766\n",
      "total_pymnt_inv\n",
      "Training accuracy: 0.9972571428571428, Test accuracy: 0.9962\n",
      "AUC: 0.9896611015185963\n",
      "collection_recovery_fee\n",
      "Training accuracy: 0.9974285714285714, Test accuracy: 0.9962666666666666\n",
      "AUC: 0.9886582281837714\n",
      "recoveries\n",
      "Training accuracy: 0.9974, Test accuracy: 0.9961333333333333\n",
      "AUC: 0.9900024835066094\n"
     ]
    }
   ],
   "source": [
    "# Show the model performance without each of selected features\n",
    "for f in features:\n",
    "    X_sub = X.drop(f, axis=1)\n",
    "    X_train, X_test, y_train, y_test = train_test_split(X_sub, y, test_size = 0.3, random_state = 2606, stratify=y)\n",
    "    small_RF_tuned = RandomForestClassifier(n_estimators=40, min_samples_leaf=3, max_features=0.5, n_jobs=-1, random_state=2606)\n",
    "    small_RF_tuned.fit(X_train, y_train)\n",
    "    print(f)\n",
    "    print_score(small_RF_tuned)"
   ]
  },
  {
   "cell_type": "markdown",
   "metadata": {},
   "source": [
    "Getting rid of any of selected features did not increase our AUC, therefore I will keep all of them in the final model. However, if we would have focused on accuracy metric instead of AUC, dropping one of the first three selected features would result in accuracy increase."
   ]
  },
  {
   "cell_type": "markdown",
   "metadata": {
    "colab_type": "text",
    "id": "sbHsFfbDgX3d"
   },
   "source": [
    "### Final Random Forest Model !\n",
    "\n",
    "After finding optimum set of parameters and features, it is time to let our Random Forest model shine. I will reload the full dataset now and train the final RF model."
   ]
  },
  {
   "cell_type": "code",
   "execution_count": 49,
   "metadata": {
    "colab": {
     "autoexec": {
      "startup": false,
      "wait_interval": 0
     }
    },
    "colab_type": "code",
    "collapsed": true,
    "id": "L5WjDjn-gX3d"
   },
   "outputs": [],
   "source": [
    "# Reload the full dataset \n",
    "X = df.drop(['loan_status'], axis=1)\n",
    "y = df['loan_status']\n",
    "X_train, X_test, y_train, y_test = train_test_split(X, y, test_size = 0.3, random_state = 2606, stratify=y)"
   ]
  },
  {
   "cell_type": "code",
   "execution_count": 50,
   "metadata": {
    "colab": {
     "autoexec": {
      "startup": false,
      "wait_interval": 0
     }
    },
    "colab_type": "code",
    "id": "1UIMx_KEgX3f",
    "outputId": "3d3dfd2b-6537-495b-dd2f-6b49795b9dd4"
   },
   "outputs": [
    {
     "name": "stdout",
     "output_type": "stream",
     "text": [
      "Wall time: 19min 36s\n",
      "Training accuracy: 0.9979007188106219, Test accuracy: 0.9969009894295566\n",
      "AUC: 0.9950925564902223\n"
     ]
    }
   ],
   "source": [
    "# Train the model and present results\n",
    "RF_final = RandomForestClassifier(n_estimators=160, min_samples_leaf=3, max_features=0.5, n_jobs=-1)\n",
    "%time RF_final.fit(X_train, y_train)\n",
    "print_score(RF_final)"
   ]
  },
  {
   "cell_type": "markdown",
   "metadata": {},
   "source": [
    "Really impressive AUC of 99.5% !"
   ]
  },
  {
   "cell_type": "code",
   "execution_count": 51,
   "metadata": {
    "colab": {
     "autoexec": {
      "startup": false,
      "wait_interval": 0
     }
    },
    "colab_type": "code",
    "id": "32f0yiS2gX3g",
    "outputId": "e29679f9-479c-41b9-82b3-f7ef3bd764ab"
   },
   "outputs": [
    {
     "name": "stdout",
     "output_type": "stream",
     "text": [
      "Classification Report:\n",
      "             precision    recall  f1-score   support\n",
      "\n",
      "          0       1.00      1.00      1.00    248568\n",
      "          1       1.00      0.96      0.98     17646\n",
      "\n",
      "avg / total       1.00      1.00      1.00    266214\n",
      "\n",
      "Confusion Matrix:\n",
      "[[248533     35]\n",
      " [   790  16856]]\n"
     ]
    }
   ],
   "source": [
    "# Display additional metrics and confusion matrix\n",
    "report(RF_final)"
   ]
  },
  {
   "cell_type": "markdown",
   "metadata": {},
   "source": [
    "RF model 35 times falsely predicted that a client will default and 790 times, that a client will not default (expensive mistake!). A huge improvement comparing to Logistic Regression and a lot of saved money. "
   ]
  },
  {
   "cell_type": "code",
   "execution_count": 52,
   "metadata": {
    "colab": {
     "autoexec": {
      "startup": false,
      "wait_interval": 0
     }
    },
    "colab_type": "code",
    "id": "u7hYFPXegX3j",
    "outputId": "d8a66a5b-699a-4bba-e7b2-ef5f50c4299d"
   },
   "outputs": [
    {
     "data": {
      "image/png": "[encoded data removed]",
      "text/plain": [
       "<matplotlib.figure.Figure at 0x25e8005f320>"
      ]
     },
     "metadata": {},
     "output_type": "display_data"
    }
   ],
   "source": [
    "# Display ROC curve\n",
    "plot_ROC(RF_final)"
   ]
  },
  {
   "cell_type": "markdown",
   "metadata": {
    "colab_type": "text",
    "id": "Gh8xgQEVvQ2x"
   },
   "source": [
    "### XGBoost\n",
    "\n",
    "XGBoost is sometimes named as 'an ultimate weapon of a data scientist'. It is a powerful algorithm, which very often rises to heights of any predictive model. A vast majority of data competitions are won by XGB experts. It is a versatile and sophisticated technique, which is relatively fast (given its complexity) and produces outstanding results. Random Forest did a really good job in solving our problem, but we may expect even more from XGB!"
   ]
  },
  {
   "cell_type": "code",
   "execution_count": 60,
   "metadata": {
    "colab": {
     "autoexec": {
      "startup": false,
      "wait_interval": 0
     }
    },
    "colab_type": "code",
    "collapsed": true,
    "id": "l0sQpVivgX3n"
   },
   "outputs": [],
   "source": [
    "# Restrict the dataset to 50000 rows \n",
    "df_small = sample(df, 50000)\n",
    "X = df_small.drop(['loan_status'], axis=1)\n",
    "y = df_small['loan_status']\n",
    "X_train, X_test, y_train, y_test = train_test_split(X, y, test_size = 0.3, random_state = 2606, stratify=y)"
   ]
  },
  {
   "cell_type": "code",
   "execution_count": 61,
   "metadata": {
    "colab": {
     "autoexec": {
      "startup": false,
      "wait_interval": 0
     }
    },
    "colab_type": "code",
    "id": "qlk1LZS_vQ21",
    "outputId": "edb43b21-17a9-413b-f9f3-2424769b8f5c"
   },
   "outputs": [
    {
     "name": "stdout",
     "output_type": "stream",
     "text": [
      "Wall time: 6.58 s\n",
      "Training accuracy: 0.9981428571428571, Test accuracy: 0.9963333333333333\n",
      "AUC: 0.9938494418011098\n"
     ]
    }
   ],
   "source": [
    "# Train basic XGB model\n",
    "small_XGB = XGBClassifier(learning_rate=0.1, n_estimators=140, max_depth=5, min_child_weight=1, gamma=0,\n",
    "             subsample=0.8, colsample_bytree=0.8, objective= 'binary:logistic', nthread=4, scale_pos_weight=1, seed=2606)\n",
    "%time small_XGB.fit(X_train, y_train)\n",
    "print_score(small_XGB)"
   ]
  },
  {
   "cell_type": "markdown",
   "metadata": {},
   "source": [
    "Despite small subset of data and not yet tuned hyperparameters, XGB presents quite impressive performance. Similarly to what we have done with Random Forest, let's find optimal hyperparameters using *grid search* and train the final model on the entire data."
   ]
  },
  {
   "cell_type": "code",
   "execution_count": 62,
   "metadata": {
    "colab": {
     "autoexec": {
      "startup": false,
      "wait_interval": 0
     }
    },
    "colab_type": "code",
    "collapsed": true,
    "id": "ERpph9vcvQ23"
   },
   "outputs": [],
   "source": [
    "# Instantiate parameters for grid search\n",
    "param_grid1 = {\n",
    "    'max_depth':[7, 9],\n",
    "    'min_child_weight':range(1,6,2),\n",
    "    'gamma':[0.0, 0.1, 0.2],\n",
    "    'reg_alpha':[0, 0.001, 0.005, 0.01, 0.05]\n",
    "}"
   ]
  },
  {
   "cell_type": "code",
   "execution_count": 63,
   "metadata": {
    "colab": {
     "autoexec": {
      "startup": false,
      "wait_interval": 0
     }
    },
    "colab_type": "code",
    "id": "7JKFTlglgX3u",
    "outputId": "35e17d79-b4e0-4264-93c2-6eef60bb8aad"
   },
   "outputs": [
    {
     "name": "stdout",
     "output_type": "stream",
     "text": [
      "Wall time: 13min 54s\n"
     ]
    },
    {
     "data": {
      "text/plain": [
       "({'gamma': 0.1, 'max_depth': 7, 'min_child_weight': 5, 'reg_alpha': 0.005},\n",
       " 0.994752077015794)"
      ]
     },
     "execution_count": 63,
     "metadata": {},
     "output_type": "execute_result"
    }
   ],
   "source": [
    "# Check all possible combinations of hyperparameters\n",
    "CV_XGB = GridSearchCV(estimator=XGBClassifier(learning_rate=0.1, n_estimators=140, max_depth=5, min_child_weight=1, gamma=0,\n",
    "            subsample=0.8, colsample_bytree=0.8, objective= 'binary:logistic', nthread=4, scale_pos_weight=1, seed=2606), \n",
    "            param_grid=param_grid1, scoring='roc_auc', cv=2, n_jobs=-1)\n",
    "%time CV_XGB.fit(X_train, y_train)\n",
    "\n",
    "CV_XGB.best_params_, CV_XGB.best_score_"
   ]
  },
  {
   "cell_type": "markdown",
   "metadata": {},
   "source": [
    "Knowing which hyperparameters to use, it is time for...\n",
    "\n",
    "## ...The Final Model!"
   ]
  },
  {
   "cell_type": "code",
   "execution_count": 64,
   "metadata": {
    "colab": {
     "autoexec": {
      "startup": false,
      "wait_interval": 0
     }
    },
    "colab_type": "code",
    "collapsed": true,
    "id": "vdfcmSXjgX3w"
   },
   "outputs": [],
   "source": [
    "# Reload full data\n",
    "X = df.drop(['loan_status'], axis=1)\n",
    "y = df['loan_status']\n",
    "X_train, X_test, y_train, y_test = train_test_split(X, y, test_size = 0.3, random_state = 2606, stratify=y)"
   ]
  },
  {
   "cell_type": "code",
   "execution_count": 65,
   "metadata": {
    "colab": {
     "autoexec": {
      "startup": false,
      "wait_interval": 0
     }
    },
    "colab_type": "code",
    "id": "wrjXy_DevQ25",
    "outputId": "ccb0f566-acda-411f-db80-9985bb016f2e"
   },
   "outputs": [
    {
     "name": "stdout",
     "output_type": "stream",
     "text": [
      "Wall time: 27min 45s\n",
      "Training accuracy: 0.9971215377556688, Test accuracy: 0.9969347968175979\n",
      "AUC: 0.9960822635009243\n"
     ]
    }
   ],
   "source": [
    "# Train the final model\n",
    "XGB_final = XGBClassifier(learning_rate=0.01, n_estimators=1000, max_depth=7, min_child_weight=5, gamma=0.1, \n",
    "                          reg_alpha=0.005, subsample=0.8, colsample_bytree=0.8, objective= 'binary:logistic', \n",
    "                          nthread=4, scale_pos_weight=1, seed=2606, n_jobs=-1) \n",
    "\n",
    "%time XGB_final.fit(X_train, y_train)\n",
    "print_score(XGB_final)"
   ]
  },
  {
   "cell_type": "code",
   "execution_count": 66,
   "metadata": {
    "colab": {
     "autoexec": {
      "startup": false,
      "wait_interval": 0
     }
    },
    "colab_type": "code",
    "id": "QYQYDUZUgX3z",
    "outputId": "022322de-e2c8-42a0-b997-6cdf3b1f77c0"
   },
   "outputs": [
    {
     "name": "stdout",
     "output_type": "stream",
     "text": [
      "Classification Report:\n",
      "             precision    recall  f1-score   support\n",
      "\n",
      "          0       1.00      1.00      1.00    248568\n",
      "          1       1.00      0.96      0.98     17646\n",
      "\n",
      "avg / total       1.00      1.00      1.00    266214\n",
      "\n",
      "Confusion Matrix:\n",
      "[[248531     37]\n",
      " [   779  16867]]\n"
     ]
    }
   ],
   "source": [
    "# Display additional metrics and confusion matrix\n",
    "report(XGB_final)"
   ]
  },
  {
   "cell_type": "markdown",
   "metadata": {},
   "source": [
    "XGB model 37 times falsely predicted that a client will default (small increase comparing to RF) and 779 times, that a client will not default. A small, but valuable improvement!"
   ]
  },
  {
   "cell_type": "code",
   "execution_count": 67,
   "metadata": {
    "colab": {
     "autoexec": {
      "startup": false,
      "wait_interval": 0
     }
    },
    "colab_type": "code",
    "id": "D7RpvZFEgX33",
    "outputId": "a47271ba-1479-40f9-8b44-9db940f92b8a"
   },
   "outputs": [
    {
     "data": {
      "image/png": "[encoded data removed]",
      "text/plain": [
       "<matplotlib.figure.Figure at 0x25e80b20b00>"
      ]
     },
     "metadata": {},
     "output_type": "display_data"
    }
   ],
   "source": [
    "# Display ROC curve\n",
    "plot_ROC(XGB_final)"
   ]
  },
  {
   "cell_type": "code",
   "execution_count": 68,
   "metadata": {
    "colab": {
     "autoexec": {
      "startup": false,
      "wait_interval": 0
     }
    },
    "colab_type": "code",
    "id": "X__CbdEpvQ28",
    "outputId": "2e1e60ae-e80b-41ec-e0c0-cb854d11f036"
   },
   "outputs": [
    {
     "data": {
      "image/png": "[encoded data removed]",
      "text/plain": [
       "<matplotlib.figure.Figure at 0x25e80b2af60>"
      ]
     },
     "metadata": {},
     "output_type": "display_data"
    }
   ],
   "source": [
    "# Display feature importance\n",
    "plot_feat_imp(XGB_final)"
   ]
  },
  {
   "cell_type": "markdown",
   "metadata": {
    "colab": {
     "autoexec": {
      "startup": false,
      "wait_interval": 0
     }
    },
    "colab_type": "code",
    "id": "O468GliKvQ3A"
   },
   "source": [
    "It looks like XGB, conversely to RF, relies on a higher number of features, distributing their importance more smoothly.\n",
    "\n",
    "## Conclusions\n",
    "\n",
    "In this notebook, I conducted a study leading to create the highly effective predictive model, explaining thoroughly all taken steps to achieve the impressive result. \n",
    "\n",
    "Starting from data pre-processing, throughout different metrics consideration, finishing on machine learning modelling. I compared three different algorithms and proved that even the simple Logistic Regression can deliver decent results in a quick way. Random Forest, after some trials and tweakings, performed significantly better. XGBoost improved the result even further reaching incredible accuracy. \n",
    "\n",
    "I believe that the concepts I presented here, like detailed pre-processing, getting a small sample the data, playing with the most important features, or grid search, can, and should be used if someone wants to equip a model with real predictive power. \n",
    "\n",
    "Thank you for staying with me to the very end, and I hope you enjoyed this notebook as much as I did!"
   ]
  },
  {
   "cell_type": "code",
   "execution_count": null,
   "metadata": {
    "collapsed": true
   },
   "outputs": [],
   "source": []
  }
 ],
 "metadata": {
  "colab": {
   "collapsed_sections": [],
   "default_view": {},
   "name": "Lending_club_project_Friday.ipynb",
   "provenance": [],
   "version": "0.3.2",
   "views": {}
  },
  "kernelspec": {
   "display_name": "Python 3",
   "language": "python",
   "name": "python3"
  },
  "language_info": {
   "codemirror_mode": {
    "name": "ipython",
    "version": 3
   },
   "file_extension": ".py",
   "mimetype": "text/x-python",
   "name": "python",
   "nbconvert_exporter": "python",
   "pygments_lexer": "ipython3",
   "version": "3.6.4"
  }
 },
 "nbformat": 4,
 "nbformat_minor": 1
}
